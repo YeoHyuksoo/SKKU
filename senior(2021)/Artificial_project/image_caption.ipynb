{
  "nbformat": 4,
  "nbformat_minor": 0,
  "metadata": {
    "colab": {
      "name": "imagecap.ipynb",
      "provenance": []
    },
    "kernelspec": {
      "display_name": "Python 3",
      "name": "python3"
    },
    "language_info": {
      "name": "python"
    },
    "accelerator": "GPU",
    "widgets": {
      "application/vnd.jupyter.widget-state+json": {
        "2451a8c939e64d26836e0746e5b33ab0": {
          "model_module": "@jupyter-widgets/controls",
          "model_name": "HBoxModel",
          "state": {
            "_view_name": "HBoxView",
            "_dom_classes": [],
            "_model_name": "HBoxModel",
            "_view_module": "@jupyter-widgets/controls",
            "_model_module_version": "1.5.0",
            "_view_count": null,
            "_view_module_version": "1.5.0",
            "box_style": "",
            "layout": "IPY_MODEL_50754058644f4eae8846ef01dfb15f83",
            "_model_module": "@jupyter-widgets/controls",
            "children": [
              "IPY_MODEL_3681266ec2f643f583e513dc0a6a8df1",
              "IPY_MODEL_b75e58f2cbec49c5958468e3f87dff85"
            ]
          }
        },
        "50754058644f4eae8846ef01dfb15f83": {
          "model_module": "@jupyter-widgets/base",
          "model_name": "LayoutModel",
          "state": {
            "_view_name": "LayoutView",
            "grid_template_rows": null,
            "right": null,
            "justify_content": null,
            "_view_module": "@jupyter-widgets/base",
            "overflow": null,
            "_model_module_version": "1.2.0",
            "_view_count": null,
            "flex_flow": null,
            "width": null,
            "min_width": null,
            "border": null,
            "align_items": null,
            "bottom": null,
            "_model_module": "@jupyter-widgets/base",
            "top": null,
            "grid_column": null,
            "overflow_y": null,
            "overflow_x": null,
            "grid_auto_flow": null,
            "grid_area": null,
            "grid_template_columns": null,
            "flex": null,
            "_model_name": "LayoutModel",
            "justify_items": null,
            "grid_row": null,
            "max_height": null,
            "align_content": null,
            "visibility": null,
            "align_self": null,
            "height": null,
            "min_height": null,
            "padding": null,
            "grid_auto_rows": null,
            "grid_gap": null,
            "max_width": null,
            "order": null,
            "_view_module_version": "1.2.0",
            "grid_template_areas": null,
            "object_position": null,
            "object_fit": null,
            "grid_auto_columns": null,
            "margin": null,
            "display": null,
            "left": null
          }
        },
        "3681266ec2f643f583e513dc0a6a8df1": {
          "model_module": "@jupyter-widgets/controls",
          "model_name": "FloatProgressModel",
          "state": {
            "_view_name": "ProgressView",
            "style": "IPY_MODEL_19a66956be594622bb959d5b822705ec",
            "_dom_classes": [],
            "description": "100%",
            "_model_name": "FloatProgressModel",
            "bar_style": "success",
            "max": 241530880,
            "_view_module": "@jupyter-widgets/controls",
            "_model_module_version": "1.5.0",
            "value": 241530880,
            "_view_count": null,
            "_view_module_version": "1.5.0",
            "orientation": "horizontal",
            "min": 0,
            "description_tooltip": null,
            "_model_module": "@jupyter-widgets/controls",
            "layout": "IPY_MODEL_74af0e0e02ab4fdd9b21568548257ba6"
          }
        },
        "b75e58f2cbec49c5958468e3f87dff85": {
          "model_module": "@jupyter-widgets/controls",
          "model_name": "HTMLModel",
          "state": {
            "_view_name": "HTMLView",
            "style": "IPY_MODEL_274d847875ef48548e685e9fe5acda82",
            "_dom_classes": [],
            "description": "",
            "_model_name": "HTMLModel",
            "placeholder": "​",
            "_view_module": "@jupyter-widgets/controls",
            "_model_module_version": "1.5.0",
            "value": " 230M/230M [00:02&lt;00:00, 113MB/s]",
            "_view_count": null,
            "_view_module_version": "1.5.0",
            "description_tooltip": null,
            "_model_module": "@jupyter-widgets/controls",
            "layout": "IPY_MODEL_0bd2c456bf704f55a3ef27cd0e695751"
          }
        },
        "19a66956be594622bb959d5b822705ec": {
          "model_module": "@jupyter-widgets/controls",
          "model_name": "ProgressStyleModel",
          "state": {
            "_view_name": "StyleView",
            "_model_name": "ProgressStyleModel",
            "description_width": "initial",
            "_view_module": "@jupyter-widgets/base",
            "_model_module_version": "1.5.0",
            "_view_count": null,
            "_view_module_version": "1.2.0",
            "bar_color": null,
            "_model_module": "@jupyter-widgets/controls"
          }
        },
        "74af0e0e02ab4fdd9b21568548257ba6": {
          "model_module": "@jupyter-widgets/base",
          "model_name": "LayoutModel",
          "state": {
            "_view_name": "LayoutView",
            "grid_template_rows": null,
            "right": null,
            "justify_content": null,
            "_view_module": "@jupyter-widgets/base",
            "overflow": null,
            "_model_module_version": "1.2.0",
            "_view_count": null,
            "flex_flow": null,
            "width": null,
            "min_width": null,
            "border": null,
            "align_items": null,
            "bottom": null,
            "_model_module": "@jupyter-widgets/base",
            "top": null,
            "grid_column": null,
            "overflow_y": null,
            "overflow_x": null,
            "grid_auto_flow": null,
            "grid_area": null,
            "grid_template_columns": null,
            "flex": null,
            "_model_name": "LayoutModel",
            "justify_items": null,
            "grid_row": null,
            "max_height": null,
            "align_content": null,
            "visibility": null,
            "align_self": null,
            "height": null,
            "min_height": null,
            "padding": null,
            "grid_auto_rows": null,
            "grid_gap": null,
            "max_width": null,
            "order": null,
            "_view_module_version": "1.2.0",
            "grid_template_areas": null,
            "object_position": null,
            "object_fit": null,
            "grid_auto_columns": null,
            "margin": null,
            "display": null,
            "left": null
          }
        },
        "274d847875ef48548e685e9fe5acda82": {
          "model_module": "@jupyter-widgets/controls",
          "model_name": "DescriptionStyleModel",
          "state": {
            "_view_name": "StyleView",
            "_model_name": "DescriptionStyleModel",
            "description_width": "",
            "_view_module": "@jupyter-widgets/base",
            "_model_module_version": "1.5.0",
            "_view_count": null,
            "_view_module_version": "1.2.0",
            "_model_module": "@jupyter-widgets/controls"
          }
        },
        "0bd2c456bf704f55a3ef27cd0e695751": {
          "model_module": "@jupyter-widgets/base",
          "model_name": "LayoutModel",
          "state": {
            "_view_name": "LayoutView",
            "grid_template_rows": null,
            "right": null,
            "justify_content": null,
            "_view_module": "@jupyter-widgets/base",
            "overflow": null,
            "_model_module_version": "1.2.0",
            "_view_count": null,
            "flex_flow": null,
            "width": null,
            "min_width": null,
            "border": null,
            "align_items": null,
            "bottom": null,
            "_model_module": "@jupyter-widgets/base",
            "top": null,
            "grid_column": null,
            "overflow_y": null,
            "overflow_x": null,
            "grid_auto_flow": null,
            "grid_area": null,
            "grid_template_columns": null,
            "flex": null,
            "_model_name": "LayoutModel",
            "justify_items": null,
            "grid_row": null,
            "max_height": null,
            "align_content": null,
            "visibility": null,
            "align_self": null,
            "height": null,
            "min_height": null,
            "padding": null,
            "grid_auto_rows": null,
            "grid_gap": null,
            "max_width": null,
            "order": null,
            "_view_module_version": "1.2.0",
            "grid_template_areas": null,
            "object_position": null,
            "object_fit": null,
            "grid_auto_columns": null,
            "margin": null,
            "display": null,
            "left": null
          }
        }
      }
    }
  },
  "cells": [
    {
      "cell_type": "code",
      "metadata": {
        "id": "jEUSxBwhNh3J"
      },
      "source": [
        "import os\n",
        "import pickle\n",
        "import numpy as np\n",
        "import nltk\n",
        "import torch\n",
        "import torchvision.transforms as transforms\n",
        "import torch.utils.data as data\n",
        "import torch.nn as nn\n",
        "import matplotlib.pyplot as plt\n",
        "import pandas as pd\n",
        "\n",
        "from multiprocessing import cpu_count\n",
        "from collections import Counter\n",
        "from PIL import Image\n",
        "from torch.nn.utils.rnn import pack_padded_sequence\n",
        "from torchvision.models import resnet152"
      ],
      "execution_count": 1,
      "outputs": []
    },
    {
      "cell_type": "code",
      "metadata": {
        "colab": {
          "base_uri": "https://localhost:8080/"
        },
        "id": "lQ6sg1UGSweH",
        "outputId": "92e5ef9b-d55e-443e-ae34-5ff223dc51c5"
      },
      "source": [
        "nltk.download('punkt')"
      ],
      "execution_count": 2,
      "outputs": [
        {
          "output_type": "stream",
          "text": [
            "[nltk_data] Downloading package punkt to /root/nltk_data...\n",
            "[nltk_data]   Unzipping tokenizers/punkt.zip.\n"
          ],
          "name": "stdout"
        },
        {
          "output_type": "execute_result",
          "data": {
            "text/plain": [
              "True"
            ]
          },
          "metadata": {
            "tags": []
          },
          "execution_count": 2
        }
      ]
    },
    {
      "cell_type": "code",
      "metadata": {
        "id": "NOkIgaKvQ8VV"
      },
      "source": [
        "def resize_images(image_dir, output_dir, size):\n",
        "  if not os.path.exists(output_dir):\n",
        "    os.makedirs(output_dir)\n",
        "  \n",
        "  images = os.listdir(image_dir)\n",
        "  num_images = len(images)\n",
        "  for i, image in enumerate(images):\n",
        "    with open(os.path.join(image_dir, image), 'r+b') as f:\n",
        "      with Image.open(f) as img:\n",
        "        img = img.resize(size, Image.ANTIALIAS)\n",
        "        img.save(os.path.join(output_dir, image), img.format)\n",
        "      if (i+1) % 1000 == 0:\n",
        "        print(\"[{}/{}] Image Resized\".format(i+1, num_images))"
      ],
      "execution_count": 3,
      "outputs": []
    },
    {
      "cell_type": "code",
      "metadata": {
        "colab": {
          "resources": {
            "http://localhost:8080/nbextensions/google.colab/files.js": {
              "data": "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",
              "ok": true,
              "headers": [
                [
                  "content-type",
                  "application/javascript"
                ]
              ],
              "status": 200,
              "status_text": ""
            }
          },
          "base_uri": "https://localhost:8080/",
          "height": 472
        },
        "id": "TNfINOAxRvxF",
        "outputId": "d44da1ca-cd9f-4e2e-9a10-7bda9d8b7fd0"
      },
      "source": [
        "!pip install kaggle\n",
        "from google.colab import files\n",
        "files.upload()\n",
        "!mkdir -p ~/.kaggle\n",
        "!mv kaggle.json ~/.kaggle/\n",
        "!chmod 600 ~/.kaggle/kaggle.json\n",
        "!kaggle datasets download -d kunalgupta2616/flickr-8k-images-with-captions\n",
        "!unzip -q flickr-8k-images-with-captions.zip\n",
        "image_dir = './Images'\n",
        "output_dir = './resize'\n",
        "image_size = [256, 256]\n",
        "resize_images(image_dir, output_dir, image_size)"
      ],
      "execution_count": 4,
      "outputs": [
        {
          "output_type": "stream",
          "text": [
            "Requirement already satisfied: kaggle in /usr/local/lib/python3.7/dist-packages (1.5.12)\n",
            "Requirement already satisfied: urllib3 in /usr/local/lib/python3.7/dist-packages (from kaggle) (1.24.3)\n",
            "Requirement already satisfied: certifi in /usr/local/lib/python3.7/dist-packages (from kaggle) (2020.12.5)\n",
            "Requirement already satisfied: requests in /usr/local/lib/python3.7/dist-packages (from kaggle) (2.23.0)\n",
            "Requirement already satisfied: six>=1.10 in /usr/local/lib/python3.7/dist-packages (from kaggle) (1.15.0)\n",
            "Requirement already satisfied: tqdm in /usr/local/lib/python3.7/dist-packages (from kaggle) (4.41.1)\n",
            "Requirement already satisfied: python-slugify in /usr/local/lib/python3.7/dist-packages (from kaggle) (4.0.1)\n",
            "Requirement already satisfied: python-dateutil in /usr/local/lib/python3.7/dist-packages (from kaggle) (2.8.1)\n",
            "Requirement already satisfied: chardet<4,>=3.0.2 in /usr/local/lib/python3.7/dist-packages (from requests->kaggle) (3.0.4)\n",
            "Requirement already satisfied: idna<3,>=2.5 in /usr/local/lib/python3.7/dist-packages (from requests->kaggle) (2.10)\n",
            "Requirement already satisfied: text-unidecode>=1.3 in /usr/local/lib/python3.7/dist-packages (from python-slugify->kaggle) (1.3)\n"
          ],
          "name": "stdout"
        },
        {
          "output_type": "display_data",
          "data": {
            "text/html": [
              "\n",
              "     <input type=\"file\" id=\"files-69667824-d3d5-490d-98f2-8b9aa7e919f2\" name=\"files[]\" multiple disabled\n",
              "        style=\"border:none\" />\n",
              "     <output id=\"result-69667824-d3d5-490d-98f2-8b9aa7e919f2\">\n",
              "      Upload widget is only available when the cell has been executed in the\n",
              "      current browser session. Please rerun this cell to enable.\n",
              "      </output>\n",
              "      <script src=\"/nbextensions/google.colab/files.js\"></script> "
            ],
            "text/plain": [
              "<IPython.core.display.HTML object>"
            ]
          },
          "metadata": {
            "tags": []
          }
        },
        {
          "output_type": "stream",
          "text": [
            "Saving kaggle.json to kaggle.json\n",
            "Downloading flickr-8k-images-with-captions.zip to /content\n",
            " 98% 1.01G/1.04G [00:12<00:00, 77.5MB/s]\n",
            "100% 1.04G/1.04G [00:12<00:00, 86.8MB/s]\n",
            "[1000/8091] Image Resized\n",
            "[2000/8091] Image Resized\n",
            "[3000/8091] Image Resized\n",
            "[4000/8091] Image Resized\n",
            "[5000/8091] Image Resized\n",
            "[6000/8091] Image Resized\n",
            "[7000/8091] Image Resized\n",
            "[8000/8091] Image Resized\n"
          ],
          "name": "stdout"
        }
      ]
    },
    {
      "cell_type": "code",
      "metadata": {
        "id": "hsg82LUFVNRf"
      },
      "source": [
        "class Vocabulary(object):\n",
        "  def __init__(self):\n",
        "    self.word2idx = {}\n",
        "    self.idx2word = {}\n",
        "    self.idx = 0\n",
        "    \n",
        "  def add_word(self, word):\n",
        "    if not word in self.word2idx:\n",
        "      self.word2idx[word] = self.idx\n",
        "      self.idx2word[self.idx] = word\n",
        "      self.idx += 1\n",
        "    \n",
        "  def __call__(self, word):\n",
        "    if not word in self.word2idx:\n",
        "      return self.word2idx['<unk>']\n",
        "    return self.word2idx[word]\n",
        "  \n",
        "  def __len__(self):\n",
        "    return len(self.word2idx)"
      ],
      "execution_count": 5,
      "outputs": []
    },
    {
      "cell_type": "code",
      "metadata": {
        "id": "hLD2mWH3WvNm"
      },
      "source": [
        "def build_vocab(df, threshold):\n",
        "  counter = Counter()\n",
        "  captions = df['caption']\n",
        "  idx = 0\n",
        "\n",
        "  for caption in captions:\n",
        "    tokens = nltk.tokenize.word_tokenize(caption.lower())\n",
        "    counter.update(tokens)\n",
        "\n",
        "    if (idx+1) % 4000 == 0:\n",
        "      print(\"[{}/{}] Caption Tokenized\".format(idx+1, len(df)))\n",
        "    idx+=1\n",
        "  words = [word for word, cnt, in counter.items() if cnt>=threshold]\n",
        "\n",
        "  vocab = Vocabulary()\n",
        "  vocab.add_word('<pad>')\n",
        "  vocab.add_word('<start>')\n",
        "  vocab.add_word('<end>')\n",
        "  vocab.add_word('<unk>')\n",
        "\n",
        "  for w in words:\n",
        "    vocab.add_word(w)\n",
        "  \n",
        "  return vocab"
      ],
      "execution_count": 6,
      "outputs": []
    },
    {
      "cell_type": "code",
      "metadata": {
        "colab": {
          "base_uri": "https://localhost:8080/"
        },
        "id": "I-HOhUSBYAro",
        "outputId": "387ffe34-d610-4805-fc64-797108472385"
      },
      "source": [
        "df = pd.read_csv('./captions.txt', sep=',')\n",
        "vocab = build_vocab(df, 3)\n",
        "\n",
        "with open('./vocab.pkl', 'wb') as f:\n",
        "  pickle.dump(vocab, f)"
      ],
      "execution_count": 7,
      "outputs": [
        {
          "output_type": "stream",
          "text": [
            "[4000/40455] Caption Tokenized\n",
            "[8000/40455] Caption Tokenized\n",
            "[12000/40455] Caption Tokenized\n",
            "[16000/40455] Caption Tokenized\n",
            "[20000/40455] Caption Tokenized\n",
            "[24000/40455] Caption Tokenized\n",
            "[28000/40455] Caption Tokenized\n",
            "[32000/40455] Caption Tokenized\n",
            "[36000/40455] Caption Tokenized\n",
            "[40000/40455] Caption Tokenized\n"
          ],
          "name": "stdout"
        }
      ]
    },
    {
      "cell_type": "code",
      "metadata": {
        "id": "R-PHO61UTh5L"
      },
      "source": [
        "class CocoDS(data.Dataset):\n",
        "  def __init__(self, root, df, vocab, transform=None):\n",
        "    self.root = root\n",
        "    self.df = df\n",
        "    self.vocab = vocab\n",
        "    self.transform = transform\n",
        "\n",
        "  def __getitem__(self, index):\n",
        "    caption = self.df['caption'][index]\n",
        "    img_id = self.df['image'][index]\n",
        "\n",
        "    image = Image.open(os.path.join(self.root, img_id)).convert('RGB')\n",
        "    if self.transform is not None:\n",
        "      image = self.transform(image)\n",
        "    \n",
        "    tokens = nltk.tokenize.word_tokenize(caption.lower())\n",
        "    caption = []\n",
        "    caption.append(self.vocab('<start>'))\n",
        "    caption.extend([self.vocab(token) for token in tokens])\n",
        "    caption.append(self.vocab('<end>'))\n",
        "    target = torch.Tensor(caption)\n",
        "    return image, target\n",
        "\n",
        "  def __len__(self):\n",
        "    return len(self.df)"
      ],
      "execution_count": 8,
      "outputs": []
    },
    {
      "cell_type": "code",
      "metadata": {
        "id": "kD8oOYLvUZwf"
      },
      "source": [
        "with open('./vocab.pkl', 'rb') as f:\n",
        "  vocab = pickle.load(f)\n",
        "\n",
        "transform = transforms.Compose([\n",
        "  transforms.RandomCrop(224),\n",
        "  transforms.RandomHorizontalFlip(),\n",
        "  transforms.ToTensor(),\n",
        "  transforms.Normalize((0.485, 0.456, 0.406), (0.229, 0.224, 0.225))\n",
        "])\n",
        "\n",
        "train_dataset = CocoDS('./resize', df=df, vocab=vocab, transform=transform)\n"
      ],
      "execution_count": 9,
      "outputs": []
    },
    {
      "cell_type": "code",
      "metadata": {
        "id": "pwWhUxoccRsV"
      },
      "source": [
        "def collate_fn(data):\n",
        "  data.sort(key=lambda x: len(x[1]), reverse=True)\n",
        "  images, captions = zip(*data)\n",
        "\n",
        "  images = torch.stack(images, 0)\n",
        "\n",
        "  lengths = [len(cap) for cap in captions]\n",
        "  targets = torch.zeros(len(captions), max(lengths)).long()\n",
        "  for i, cap in enumerate(captions):\n",
        "    end = lengths[i]\n",
        "    targets[i, :end] = cap[:end]\n",
        "  \n",
        "  return images, targets, lengths"
      ],
      "execution_count": 10,
      "outputs": []
    },
    {
      "cell_type": "code",
      "metadata": {
        "id": "G5Apfl6EdC1n"
      },
      "source": [
        "if cpu_count() > 5:\n",
        "  num_workers = cpu_count()\n",
        "elif cpu_count() < 2:\n",
        "  num_workers = 0\n",
        "else:\n",
        "  num_workers = 2\n",
        "\n",
        "train_loader = torch.utils.data.DataLoader(train_dataset, batch_size=64, shuffle=True, num_workers=num_workers, collate_fn=collate_fn)"
      ],
      "execution_count": 11,
      "outputs": []
    },
    {
      "cell_type": "code",
      "metadata": {
        "id": "K9gJ3x7kdXmi"
      },
      "source": [
        "class EncoderCNN(nn.Module):\n",
        "  def __init__(self):\n",
        "    super().__init__()\n",
        "    pretrained = resnet152(pretrained=True)\n",
        "    layers = list(pretrained.children())[:-1]\n",
        "    self.resnet = nn.Sequential(*layers)\n",
        "    self.linear = nn.Linear(pretrained.fc.in_features, 256)\n",
        "    self.bn = nn.BatchNorm1d(256, momentum=0.01)\n",
        "\n",
        "  def forward(self, x):\n",
        "    with torch.no_grad():\n",
        "      features = self.resnet(x)\n",
        "    features = features.view(features.size(0), -1)\n",
        "    latent_vector = self.bn(self.linear(features))\n",
        "    return latent_vector"
      ],
      "execution_count": 12,
      "outputs": []
    },
    {
      "cell_type": "code",
      "metadata": {
        "id": "88UOl1MzeDNV"
      },
      "source": [
        "class DecoderLSTM(nn.Module):\n",
        "  def __init__(self, vocab_size):\n",
        "    super().__init__()\n",
        "    self.embed = nn.Embedding(vocab_size, 256)\n",
        "    self.lstm = nn.LSTM(256, 512, 1, batch_first=True)\n",
        "    self.linear = nn.Linear(512, vocab_size)\n",
        "\n",
        "  def forward(self, features, captions, lengths):\n",
        "    embeddings = self.embed(captions)\n",
        "    embeddings = torch.cat((features.unsqueeze(1), embeddings), 1)\n",
        "    packed = pack_padded_sequence(embeddings, lengths, batch_first=True)\n",
        "    hiddens, _ = self.lstm(packed)\n",
        "    outputs = self.linear(hiddens[0])\n",
        "    return outputs"
      ],
      "execution_count": 13,
      "outputs": []
    },
    {
      "cell_type": "code",
      "metadata": {
        "id": "RjX6gSueDfKd"
      },
      "source": [
        "class EncoderDecoder(nn.Module):\n",
        "    def __init__(self, vocab_size):\n",
        "        super().__init__()\n",
        "        self.encoder = EncoderCNN()\n",
        "        self.decoder = DecoderLSTM(vocab_size)\n",
        "        \n",
        "    def forward(self, images, features, captions, lengths):\n",
        "        features = self.encoder(images)\n",
        "        outputs = self.decoder(features, captions, lengths)\n",
        "        return outputs"
      ],
      "execution_count": 14,
      "outputs": []
    },
    {
      "cell_type": "code",
      "metadata": {
        "id": "H9q4TvwjevNM",
        "colab": {
          "base_uri": "https://localhost:8080/",
          "height": 85,
          "referenced_widgets": [
            "2451a8c939e64d26836e0746e5b33ab0",
            "50754058644f4eae8846ef01dfb15f83",
            "3681266ec2f643f583e513dc0a6a8df1",
            "b75e58f2cbec49c5958468e3f87dff85",
            "19a66956be594622bb959d5b822705ec",
            "74af0e0e02ab4fdd9b21568548257ba6",
            "274d847875ef48548e685e9fe5acda82",
            "0bd2c456bf704f55a3ef27cd0e695751"
          ]
        },
        "outputId": "e1ae953f-de69-4971-a71a-72347d259149"
      },
      "source": [
        "device = torch.device('cuda' if torch.cuda.is_available() else 'cpu')\n",
        "\n",
        "vocab_size = len(vocab)\n",
        "model = EncoderDecoder(vocab_size=vocab_size).to(device)\n",
        "\n",
        "criterion = nn.CrossEntropyLoss()\n",
        "params = model.parameters()\n",
        "optimizer = torch.optim.Adam(params, lr=0.001)"
      ],
      "execution_count": 15,
      "outputs": [
        {
          "output_type": "stream",
          "text": [
            "Downloading: \"https://download.pytorch.org/models/resnet152-b121ed2d.pth\" to /root/.cache/torch/hub/checkpoints/resnet152-b121ed2d.pth\n"
          ],
          "name": "stderr"
        },
        {
          "output_type": "display_data",
          "data": {
            "application/vnd.jupyter.widget-view+json": {
              "model_id": "2451a8c939e64d26836e0746e5b33ab0",
              "version_minor": 0,
              "version_major": 2
            },
            "text/plain": [
              "HBox(children=(FloatProgress(value=0.0, max=241530880.0), HTML(value='')))"
            ]
          },
          "metadata": {
            "tags": []
          }
        },
        {
          "output_type": "stream",
          "text": [
            "\n"
          ],
          "name": "stdout"
        }
      ]
    },
    {
      "cell_type": "code",
      "metadata": {
        "id": "Gfr4L33RgNQ0",
        "colab": {
          "base_uri": "https://localhost:8080/"
        },
        "outputId": "bf768fc5-e88f-4155-cdf5-2e009018179b"
      },
      "source": [
        "EPOCHS = 18\n",
        "total_step = len(train_loader)\n",
        "\n",
        "model.train()\n",
        "\n",
        "for epoch in range(EPOCHS):\n",
        "  for i, (images, captions, lengths) in enumerate(train_loader):\n",
        "    images, captions = images.to(device), captions.to(device)\n",
        "    targets = pack_padded_sequence(captions, lengths, batch_first=True)[0]\n",
        "    optimizer.zero_grad()\n",
        "\n",
        "    features = model.encoder(images)\n",
        "    outputs = model.decoder(features, captions, lengths)\n",
        "    loss = criterion(outputs, targets)\n",
        "    loss.backward()\n",
        "    optimizer.step()\n",
        "\n",
        "    if (i+1) % 100 == 0:\n",
        "      print('Epoch [{}/{}], Step [{}/{}], Loss: {:.4f}'.format(epoch, EPOCHS, i+1, total_step, loss.item()))"
      ],
      "execution_count": 16,
      "outputs": [
        {
          "output_type": "stream",
          "text": [
            "Epoch [0/18], Step [100/633], Loss: 3.6677\n",
            "Epoch [0/18], Step [200/633], Loss: 3.0440\n",
            "Epoch [0/18], Step [300/633], Loss: 3.1300\n",
            "Epoch [0/18], Step [400/633], Loss: 3.1372\n",
            "Epoch [0/18], Step [500/633], Loss: 3.0482\n",
            "Epoch [0/18], Step [600/633], Loss: 2.9985\n",
            "Epoch [1/18], Step [100/633], Loss: 2.5231\n",
            "Epoch [1/18], Step [200/633], Loss: 2.6384\n",
            "Epoch [1/18], Step [300/633], Loss: 2.6158\n",
            "Epoch [1/18], Step [400/633], Loss: 2.6945\n",
            "Epoch [1/18], Step [500/633], Loss: 2.5267\n",
            "Epoch [1/18], Step [600/633], Loss: 2.4443\n",
            "Epoch [2/18], Step [100/633], Loss: 2.2235\n",
            "Epoch [2/18], Step [200/633], Loss: 2.2842\n",
            "Epoch [2/18], Step [300/633], Loss: 2.3934\n",
            "Epoch [2/18], Step [400/633], Loss: 2.2406\n",
            "Epoch [2/18], Step [500/633], Loss: 2.4486\n",
            "Epoch [2/18], Step [600/633], Loss: 2.2990\n",
            "Epoch [3/18], Step [100/633], Loss: 2.0340\n",
            "Epoch [3/18], Step [200/633], Loss: 2.1958\n",
            "Epoch [3/18], Step [300/633], Loss: 2.1979\n",
            "Epoch [3/18], Step [400/633], Loss: 2.0520\n",
            "Epoch [3/18], Step [500/633], Loss: 2.0566\n",
            "Epoch [3/18], Step [600/633], Loss: 2.1234\n",
            "Epoch [4/18], Step [100/633], Loss: 2.1076\n",
            "Epoch [4/18], Step [200/633], Loss: 1.9820\n",
            "Epoch [4/18], Step [300/633], Loss: 1.9470\n",
            "Epoch [4/18], Step [400/633], Loss: 2.2090\n",
            "Epoch [4/18], Step [500/633], Loss: 1.9500\n",
            "Epoch [4/18], Step [600/633], Loss: 2.0146\n",
            "Epoch [5/18], Step [100/633], Loss: 1.8281\n",
            "Epoch [5/18], Step [200/633], Loss: 1.7336\n",
            "Epoch [5/18], Step [300/633], Loss: 1.9334\n",
            "Epoch [5/18], Step [400/633], Loss: 1.8830\n",
            "Epoch [5/18], Step [500/633], Loss: 1.7033\n",
            "Epoch [5/18], Step [600/633], Loss: 1.8970\n",
            "Epoch [6/18], Step [100/633], Loss: 1.7049\n",
            "Epoch [6/18], Step [200/633], Loss: 1.7352\n",
            "Epoch [6/18], Step [300/633], Loss: 1.7350\n",
            "Epoch [6/18], Step [400/633], Loss: 1.9104\n",
            "Epoch [6/18], Step [500/633], Loss: 1.8058\n",
            "Epoch [6/18], Step [600/633], Loss: 1.7352\n",
            "Epoch [7/18], Step [100/633], Loss: 1.5738\n",
            "Epoch [7/18], Step [200/633], Loss: 1.7660\n",
            "Epoch [7/18], Step [300/633], Loss: 1.6871\n",
            "Epoch [7/18], Step [400/633], Loss: 1.6414\n",
            "Epoch [7/18], Step [500/633], Loss: 1.7113\n",
            "Epoch [7/18], Step [600/633], Loss: 1.6804\n",
            "Epoch [8/18], Step [100/633], Loss: 1.5388\n",
            "Epoch [8/18], Step [200/633], Loss: 1.4207\n",
            "Epoch [8/18], Step [300/633], Loss: 1.4927\n",
            "Epoch [8/18], Step [400/633], Loss: 1.4406\n",
            "Epoch [8/18], Step [500/633], Loss: 1.4760\n",
            "Epoch [8/18], Step [600/633], Loss: 1.5102\n",
            "Epoch [9/18], Step [100/633], Loss: 1.3750\n",
            "Epoch [9/18], Step [200/633], Loss: 1.4345\n",
            "Epoch [9/18], Step [300/633], Loss: 1.4529\n",
            "Epoch [9/18], Step [400/633], Loss: 1.3752\n",
            "Epoch [9/18], Step [500/633], Loss: 1.4438\n",
            "Epoch [9/18], Step [600/633], Loss: 1.5109\n",
            "Epoch [10/18], Step [100/633], Loss: 1.2718\n",
            "Epoch [10/18], Step [200/633], Loss: 1.3563\n",
            "Epoch [10/18], Step [300/633], Loss: 1.3475\n",
            "Epoch [10/18], Step [400/633], Loss: 1.3103\n",
            "Epoch [10/18], Step [500/633], Loss: 1.4568\n",
            "Epoch [10/18], Step [600/633], Loss: 1.3610\n",
            "Epoch [11/18], Step [100/633], Loss: 1.2147\n",
            "Epoch [11/18], Step [200/633], Loss: 1.2266\n",
            "Epoch [11/18], Step [300/633], Loss: 1.3188\n",
            "Epoch [11/18], Step [400/633], Loss: 1.3053\n",
            "Epoch [11/18], Step [500/633], Loss: 1.2053\n",
            "Epoch [11/18], Step [600/633], Loss: 1.2582\n",
            "Epoch [12/18], Step [100/633], Loss: 1.0977\n",
            "Epoch [12/18], Step [200/633], Loss: 1.1896\n",
            "Epoch [12/18], Step [300/633], Loss: 1.1384\n",
            "Epoch [12/18], Step [400/633], Loss: 1.1384\n",
            "Epoch [12/18], Step [500/633], Loss: 1.1863\n",
            "Epoch [12/18], Step [600/633], Loss: 1.2303\n",
            "Epoch [13/18], Step [100/633], Loss: 1.0875\n",
            "Epoch [13/18], Step [200/633], Loss: 1.1064\n",
            "Epoch [13/18], Step [300/633], Loss: 1.0674\n",
            "Epoch [13/18], Step [400/633], Loss: 1.0706\n",
            "Epoch [13/18], Step [500/633], Loss: 1.2065\n",
            "Epoch [13/18], Step [600/633], Loss: 1.2103\n",
            "Epoch [14/18], Step [100/633], Loss: 0.9680\n",
            "Epoch [14/18], Step [200/633], Loss: 1.0919\n",
            "Epoch [14/18], Step [300/633], Loss: 1.0157\n",
            "Epoch [14/18], Step [400/633], Loss: 0.9732\n",
            "Epoch [14/18], Step [500/633], Loss: 1.0913\n",
            "Epoch [14/18], Step [600/633], Loss: 1.0732\n",
            "Epoch [15/18], Step [100/633], Loss: 0.9485\n",
            "Epoch [15/18], Step [200/633], Loss: 0.9695\n",
            "Epoch [15/18], Step [300/633], Loss: 1.0137\n",
            "Epoch [15/18], Step [400/633], Loss: 1.0546\n",
            "Epoch [15/18], Step [500/633], Loss: 1.0128\n",
            "Epoch [15/18], Step [600/633], Loss: 1.0075\n",
            "Epoch [16/18], Step [100/633], Loss: 0.9189\n",
            "Epoch [16/18], Step [200/633], Loss: 0.9628\n",
            "Epoch [16/18], Step [300/633], Loss: 0.9769\n",
            "Epoch [16/18], Step [400/633], Loss: 0.9433\n",
            "Epoch [16/18], Step [500/633], Loss: 0.9655\n",
            "Epoch [16/18], Step [600/633], Loss: 1.0376\n",
            "Epoch [17/18], Step [100/633], Loss: 0.8518\n",
            "Epoch [17/18], Step [200/633], Loss: 0.8643\n",
            "Epoch [17/18], Step [300/633], Loss: 0.9904\n",
            "Epoch [17/18], Step [400/633], Loss: 0.8535\n",
            "Epoch [17/18], Step [500/633], Loss: 0.9359\n",
            "Epoch [17/18], Step [600/633], Loss: 0.9342\n"
          ],
          "name": "stdout"
        }
      ]
    },
    {
      "cell_type": "code",
      "metadata": {
        "id": "eha-bPNPEtsk"
      },
      "source": [
        "torch.save(model.state_dict(), './2016312761_여혁수.pt')"
      ],
      "execution_count": 17,
      "outputs": []
    },
    {
      "cell_type": "code",
      "metadata": {
        "id": "3_gsxfT4rJkf"
      },
      "source": [
        "def load_image(image_path):\n",
        "  img = Image.open(image_path).convert('RGB')\n",
        "  img = img.resize([224, 224], Image.LANCZOS)\n",
        "  transform = transforms.Compose([\n",
        "    transforms.ToTensor(),\n",
        "    transforms.Normalize((0.485, 0.456, 0.406), (0.229, 0.224, 0.225))\n",
        "  ])\n",
        "  img = transform(img).unsqueeze(0)\n",
        "  return img"
      ],
      "execution_count": 18,
      "outputs": []
    },
    {
      "cell_type": "code",
      "metadata": {
        "id": "bQgbWxB7xwrl"
      },
      "source": [
        "def test(img):\n",
        "  max_sequence_length = 20\n",
        "\n",
        "  model.eval()\n",
        "  word_ids = []\n",
        "\n",
        "  with torch.no_grad():\n",
        "    inputs = model.encoder(img).unsqueeze(1)\n",
        "    states = None\n",
        "    for i in range(max_sequence_length):\n",
        "      hiddens, states = model.decoder.lstm(inputs, states)\n",
        "      outputs = model.decoder.linear(hiddens.squeeze(1))\n",
        "      _, predicted = outputs.max(1)\n",
        "      word_ids.append(predicted)\n",
        "      inputs = model.decoder.embed(predicted).unsqueeze(1)\n",
        "    \n",
        "    word_ids = torch.stack(word_ids, 1)\n",
        "    word_ids = word_ids[0].detach().cpu().numpy()\n",
        "\n",
        "  caption = []\n",
        "  for id in word_ids:\n",
        "    word = vocab.idx2word[id]\n",
        "    caption.append(word)\n",
        "    if word == '<end>':\n",
        "      break\n",
        "\n",
        "  caption = ' '.join(caption)\n",
        "  return caption"
      ],
      "execution_count": 19,
      "outputs": []
    },
    {
      "cell_type": "code",
      "metadata": {
        "colab": {
          "base_uri": "https://localhost:8080/",
          "height": 600
        },
        "id": "NV2gmIm3m-62",
        "outputId": "427cdd93-b16c-407d-f345-921628f1e969"
      },
      "source": [
        "!unzip -q test_images.zip\n",
        "for i in range(10):\n",
        "  image_path = './test_images/randomimage'+str(i)+'.jpg'\n",
        "  img = load_image(image_path).to(device)\n",
        "  caption = test(img)\n",
        "  print(\"img\"+str(i))\n",
        "  print(caption)\n",
        "  image = Image.open(image_path)\n",
        "  plt.imshow(np.asarray(image))"
      ],
      "execution_count": 28,
      "outputs": [
        {
          "output_type": "stream",
          "text": [
            "img0\n",
            "<start> a group of people are standing together on a sidewalk in front of a <unk> . <end>\n",
            "img1\n",
            "<start> a black and white dog playing with a brown dog in a field <end>\n",
            "img2\n",
            "<start> a man in a yellow shirt is sitting in a bus staring forward . <end>\n",
            "img3\n",
            "<start> a woman in a dress raises her arm over another person at a party . <end>\n",
            "img4\n",
            "<start> a soccer player in a red uniform is holding the ball . <end>\n",
            "img5\n",
            "<start> two dogs are playing together on a dry carpet . <end>\n",
            "img6\n",
            "<start> a woman holding a baby who is petting a dog . <end>\n",
            "img7\n",
            "<start> a football player in orange is being tackled by a oklahoma university in front of the crowd . <end>\n",
            "img8\n",
            "<start> a man dances with a wrestler while a woman in a white shirt watches from behind . <end>\n",
            "img9\n",
            "<start> a brown and white dog is jumping up in the air to catch a ball . <end>\n"
          ],
          "name": "stdout"
        },
        {
          "output_type": "display_data",
          "data": {
            "image/png": "[encoded data removed]",
            "text/plain": [
              "<Figure size 432x288 with 1 Axes>"
            ]
          },
          "metadata": {
            "tags": [],
            "needs_background": "light"
          }
        }
      ]
    }
  ]
}