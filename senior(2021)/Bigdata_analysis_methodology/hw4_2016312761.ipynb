{
  "nbformat": 4,
  "nbformat_minor": 0,
  "metadata": {
    "colab": {
      "name": "Untitled3.ipynb",
      "provenance": []
    },
    "kernelspec": {
      "name": "python3",
      "display_name": "Python 3"
    },
    "language_info": {
      "name": "python"
    }
  },
  "cells": [
    {
      "cell_type": "code",
      "metadata": {
        "colab": {
          "base_uri": "https://localhost:8080/"
        },
        "id": "t4-k4BDWQsWI",
        "outputId": "8472ddb9-dbbd-4305-a86a-3c50fc5ca4d8"
      },
      "source": [
        "!pip install pyspark"
      ],
      "execution_count": 1,
      "outputs": [
        {
          "output_type": "stream",
          "text": [
            "Collecting pyspark\n",
            "\u001b[?25l  Downloading https://files.pythonhosted.org/packages/45/b0/9d6860891ab14a39d4bddf80ba26ce51c2f9dc4805e5c6978ac0472c120a/pyspark-3.1.1.tar.gz (212.3MB)\n",
            "\u001b[K     |████████████████████████████████| 212.3MB 67kB/s \n",
            "\u001b[?25hCollecting py4j==0.10.9\n",
            "\u001b[?25l  Downloading https://files.pythonhosted.org/packages/9e/b6/6a4fb90cd235dc8e265a6a2067f2a2c99f0d91787f06aca4bcf7c23f3f80/py4j-0.10.9-py2.py3-none-any.whl (198kB)\n",
            "\u001b[K     |████████████████████████████████| 204kB 19.6MB/s \n",
            "\u001b[?25hBuilding wheels for collected packages: pyspark\n",
            "  Building wheel for pyspark (setup.py) ... \u001b[?25l\u001b[?25hdone\n",
            "  Created wheel for pyspark: filename=pyspark-3.1.1-py2.py3-none-any.whl size=212767604 sha256=0ddcfafa46ed2939ad0eb2ab9fc18b54f6eb2d2a7117579158b932096470e56e\n",
            "  Stored in directory: /root/.cache/pip/wheels/0b/90/c0/01de724414ef122bd05f056541fb6a0ecf47c7ca655f8b3c0f\n",
            "Successfully built pyspark\n",
            "Installing collected packages: py4j, pyspark\n",
            "Successfully installed py4j-0.10.9 pyspark-3.1.1\n"
          ],
          "name": "stdout"
        }
      ]
    },
    {
      "cell_type": "code",
      "metadata": {
        "colab": {
          "base_uri": "https://localhost:8080/"
        },
        "id": "ygKIwIiKQSgK",
        "outputId": "63709c71-2ebf-4e69-f158-d3380f16da6e"
      },
      "source": [
        "from pyspark.sql import *\n",
        "from pyspark.sql import SparkSession\n",
        "from pyspark.sql.functions import *\n",
        "from pyspark import SparkContext\n",
        "import pandas as pd\n",
        "\n",
        "spark = SparkSession.builder.appName(\"Titanic-Dataset\").config('spark.driver.memory','15g').getOrCreate()\n",
        "\n",
        "df = spark.read.option(\"header\", True).csv('train.csv')\n",
        "\n",
        "df.printSchema()"
      ],
      "execution_count": 3,
      "outputs": [
        {
          "output_type": "stream",
          "text": [
            "root\n",
            " |-- PassengerId: string (nullable = true)\n",
            " |-- Survived: string (nullable = true)\n",
            " |-- Pclass: string (nullable = true)\n",
            " |-- Name: string (nullable = true)\n",
            " |-- Sex: string (nullable = true)\n",
            " |-- Age: string (nullable = true)\n",
            " |-- SibSp: string (nullable = true)\n",
            " |-- Parch: string (nullable = true)\n",
            " |-- Ticket: string (nullable = true)\n",
            " |-- Fare: string (nullable = true)\n",
            " |-- Cabin: string (nullable = true)\n",
            " |-- Embarked: string (nullable = true)\n",
            "\n"
          ],
          "name": "stdout"
        }
      ]
    },
    {
      "cell_type": "code",
      "metadata": {
        "colab": {
          "base_uri": "https://localhost:8080/"
        },
        "id": "INBWjYNfRMUN",
        "outputId": "749c2c9f-5d9a-4732-f842-90c7be273bcf"
      },
      "source": [
        "from pyspark.sql.functions import when, count, col\n",
        "df.select([count(when(isnull(c), c)).alias(c) for c in df.columns]).show()\n",
        "\n",
        "columns_to_drop = ['Ticket', 'Cabin']\n",
        "df = df.drop(*columns_to_drop)"
      ],
      "execution_count": 4,
      "outputs": [
        {
          "output_type": "stream",
          "text": [
            "+-----------+--------+------+----+---+---+-----+-----+------+----+-----+--------+\n",
            "|PassengerId|Survived|Pclass|Name|Sex|Age|SibSp|Parch|Ticket|Fare|Cabin|Embarked|\n",
            "+-----------+--------+------+----+---+---+-----+-----+------+----+-----+--------+\n",
            "|          0|       0|     0|   0|  0|177|    0|    0|     0|   0|  687|       2|\n",
            "+-----------+--------+------+----+---+---+-----+-----+------+----+-----+--------+\n",
            "\n"
          ],
          "name": "stdout"
        }
      ]
    },
    {
      "cell_type": "code",
      "metadata": {
        "colab": {
          "base_uri": "https://localhost:8080/"
        },
        "id": "fx2kA5JtbacL",
        "outputId": "3d7f14ce-6ee8-41c8-9021-d7f51466f959"
      },
      "source": [
        "from pyspark.sql.functions import mean as _mean, stddev as _stddev, col\n",
        "\n",
        "df_stats = df.select(\n",
        "    _mean(col('Age')).alias('mean'),\n",
        ").collect()\n",
        "\n",
        "mean = df_stats[0]['mean']\n",
        "print(mean)"
      ],
      "execution_count": 5,
      "outputs": [
        {
          "output_type": "stream",
          "text": [
            "29.69911764705882\n"
          ],
          "name": "stdout"
        }
      ]
    },
    {
      "cell_type": "code",
      "metadata": {
        "colab": {
          "base_uri": "https://localhost:8080/"
        },
        "id": "TpqbMsChUzqi",
        "outputId": "7739ddae-fbab-4a46-8778-e0b1f4792f6c"
      },
      "source": [
        "df = df.fillna({'Age' : mean})\n",
        "\n",
        "df.show()\n",
        "df.printSchema()"
      ],
      "execution_count": 6,
      "outputs": [
        {
          "output_type": "stream",
          "text": [
            "+-----------+--------+------+--------------------+------+-----------------+-----+-----+-------+--------+\n",
            "|PassengerId|Survived|Pclass|                Name|   Sex|              Age|SibSp|Parch|   Fare|Embarked|\n",
            "+-----------+--------+------+--------------------+------+-----------------+-----+-----+-------+--------+\n",
            "|          1|       0|     3|Braund, Mr. Owen ...|  male|               22|    1|    0|   7.25|       S|\n",
            "|          2|       1|     1|Cumings, Mrs. Joh...|female|               38|    1|    0|71.2833|       C|\n",
            "|          3|       1|     3|Heikkinen, Miss. ...|female|               26|    0|    0|  7.925|       S|\n",
            "|          4|       1|     1|Futrelle, Mrs. Ja...|female|               35|    1|    0|   53.1|       S|\n",
            "|          5|       0|     3|Allen, Mr. Willia...|  male|               35|    0|    0|   8.05|       S|\n",
            "|          6|       0|     3|    Moran, Mr. James|  male|29.69911764705882|    0|    0| 8.4583|       Q|\n",
            "|          7|       0|     1|McCarthy, Mr. Tim...|  male|               54|    0|    0|51.8625|       S|\n",
            "|          8|       0|     3|Palsson, Master. ...|  male|                2|    3|    1| 21.075|       S|\n",
            "|          9|       1|     3|Johnson, Mrs. Osc...|female|               27|    0|    2|11.1333|       S|\n",
            "|         10|       1|     2|Nasser, Mrs. Nich...|female|               14|    1|    0|30.0708|       C|\n",
            "|         11|       1|     3|Sandstrom, Miss. ...|female|                4|    1|    1|   16.7|       S|\n",
            "|         12|       1|     1|Bonnell, Miss. El...|female|               58|    0|    0|  26.55|       S|\n",
            "|         13|       0|     3|Saundercock, Mr. ...|  male|               20|    0|    0|   8.05|       S|\n",
            "|         14|       0|     3|Andersson, Mr. An...|  male|               39|    1|    5| 31.275|       S|\n",
            "|         15|       0|     3|Vestrom, Miss. Hu...|female|               14|    0|    0| 7.8542|       S|\n",
            "|         16|       1|     2|Hewlett, Mrs. (Ma...|female|               55|    0|    0|     16|       S|\n",
            "|         17|       0|     3|Rice, Master. Eugene|  male|                2|    4|    1| 29.125|       Q|\n",
            "|         18|       1|     2|Williams, Mr. Cha...|  male|29.69911764705882|    0|    0|     13|       S|\n",
            "|         19|       0|     3|Vander Planke, Mr...|female|               31|    1|    0|     18|       S|\n",
            "|         20|       1|     3|Masselmani, Mrs. ...|female|29.69911764705882|    0|    0|  7.225|       C|\n",
            "+-----------+--------+------+--------------------+------+-----------------+-----+-----+-------+--------+\n",
            "only showing top 20 rows\n",
            "\n",
            "root\n",
            " |-- PassengerId: string (nullable = true)\n",
            " |-- Survived: string (nullable = true)\n",
            " |-- Pclass: string (nullable = true)\n",
            " |-- Name: string (nullable = true)\n",
            " |-- Sex: string (nullable = true)\n",
            " |-- Age: string (nullable = false)\n",
            " |-- SibSp: string (nullable = true)\n",
            " |-- Parch: string (nullable = true)\n",
            " |-- Fare: string (nullable = true)\n",
            " |-- Embarked: string (nullable = true)\n",
            "\n"
          ],
          "name": "stdout"
        }
      ]
    },
    {
      "cell_type": "code",
      "metadata": {
        "colab": {
          "base_uri": "https://localhost:8080/",
          "height": 592
        },
        "id": "d0qzn9z8g-vf",
        "outputId": "4f55268d-9116-47c9-9d90-fa107324a931"
      },
      "source": [
        "df = df.fillna({'Embarked': '0'})\n",
        "df_pd = df.toPandas()\n",
        "age_list = list(df_pd['Age'])\n",
        "\n",
        "age_list = [float (i) for i in age_list]\n",
        "age_list.sort()\n",
        "\n",
        "import matplotlib.pyplot as plt\n",
        "plt.rcParams[\"figure.figsize\"] = (25, 10)\n",
        "plt.hist(age_list)\n",
        "plt.show()"
      ],
      "execution_count": 7,
      "outputs": [
        {
          "output_type": "display_data",
          "data": {
            "image/png": "[encoded data removed]",
            "text/plain": [
              "<Figure size 1800x720 with 1 Axes>"
            ]
          },
          "metadata": {
            "tags": [],
            "needs_background": "light"
          }
        }
      ]
    },
    {
      "cell_type": "code",
      "metadata": {
        "colab": {
          "base_uri": "https://localhost:8080/"
        },
        "id": "1-oSv6_VtIdn",
        "outputId": "35848db4-27dc-4b75-c1a7-9f075f3725ff"
      },
      "source": [
        "from pyspark.ml.feature import StringIndexer\n",
        "from pyspark.ml.feature import OneHotEncoder\n",
        "from pyspark.ml import Pipeline\n",
        "\n",
        "sex_indexer = StringIndexer(inputCol=\"Sex\", outputCol=\"SexIndex\")\n",
        "pclass_indexer = StringIndexer(inputCol=\"Pclass\", outputCol=\"PclassIndex\")\n",
        "age_indexer = StringIndexer(inputCol=\"Age\", outputCol=\"AgeIndex\")\n",
        "sibsp_indexer = StringIndexer(inputCol=\"SibSp\", outputCol=\"SibspIndex\")\n",
        "parch_indexer = StringIndexer(inputCol=\"Parch\", outputCol=\"ParchIndex\")\n",
        "embarked_indexer = StringIndexer(inputCol=\"Embarked\", outputCol=\"EmbarkedIndex\")\n",
        "onehotencoder_sex_vector = OneHotEncoder(inputCol=\"SexIndex\", outputCol=\"SexHot\")\n",
        "onehotencoder_pclass_vector = OneHotEncoder(inputCol=\"PclassIndex\", outputCol=\"PclassHot\")\n",
        "onehotencoder_age_vector = OneHotEncoder(inputCol=\"AgeIndex\", outputCol=\"AgeHot\")\n",
        "onehotencoder_sibsp_vector = OneHotEncoder(inputCol=\"SibspIndex\", outputCol=\"SibspHot\")\n",
        "onehotencoder_parch_vector = OneHotEncoder(inputCol=\"ParchIndex\", outputCol=\"ParchHot\")\n",
        "onehotencoder_embarked_vector = OneHotEncoder(inputCol=\"EmbarkedIndex\", outputCol=\"EmbarkedHot\")\n",
        "\n",
        "pipeline = Pipeline(stages=[sex_indexer,\n",
        "                            pclass_indexer,\n",
        "                            age_indexer,\n",
        "                            sibsp_indexer,\n",
        "                            parch_indexer,\n",
        "                            embarked_indexer,\n",
        "                            onehotencoder_sex_vector,\n",
        "                            onehotencoder_pclass_vector,\n",
        "                            onehotencoder_age_vector,\n",
        "                            onehotencoder_sibsp_vector,\n",
        "                            onehotencoder_parch_vector,\n",
        "                            onehotencoder_embarked_vector\n",
        "                    ])\n",
        "\n",
        "df_transformed = pipeline.fit(df).transform(df)\n",
        "df_transformed.show()\n",
        "\n",
        "from pyspark.sql.types import IntegerType\n",
        "\n",
        "df_transformed = df_transformed.withColumn(\"Survived\", df_transformed[\"Survived\"].cast(IntegerType()))\n"
      ],
      "execution_count": 8,
      "outputs": [
        {
          "output_type": "stream",
          "text": [
            "+-----------+--------+------+--------------------+------+-----------------+-----+-----+-------+--------+--------+-----------+--------+----------+----------+-------------+-------------+-------------+---------------+-------------+-------------+-------------+\n",
            "|PassengerId|Survived|Pclass|                Name|   Sex|              Age|SibSp|Parch|   Fare|Embarked|SexIndex|PclassIndex|AgeIndex|SibspIndex|ParchIndex|EmbarkedIndex|       SexHot|    PclassHot|         AgeHot|     SibspHot|     ParchHot|  EmbarkedHot|\n",
            "+-----------+--------+------+--------------------+------+-----------------+-----+-----+-------+--------+--------+-----------+--------+----------+----------+-------------+-------------+-------------+---------------+-------------+-------------+-------------+\n",
            "|          1|       0|     3|Braund, Mr. Owen ...|  male|               22|    1|    0|   7.25|       S|     0.0|        0.0|     2.0|       1.0|       0.0|          0.0|(1,[0],[1.0])|(2,[0],[1.0])| (88,[2],[1.0])|(6,[1],[1.0])|(6,[0],[1.0])|(3,[0],[1.0])|\n",
            "|          2|       1|     1|Cumings, Mrs. Joh...|female|               38|    1|    0|71.2833|       C|     1.0|        1.0|    26.0|       1.0|       0.0|          1.0|    (1,[],[])|(2,[1],[1.0])|(88,[26],[1.0])|(6,[1],[1.0])|(6,[0],[1.0])|(3,[1],[1.0])|\n",
            "|          3|       1|     3|Heikkinen, Miss. ...|female|               26|    0|    0|  7.925|       S|     1.0|        0.0|    11.0|       0.0|       0.0|          0.0|    (1,[],[])|(2,[0],[1.0])|(88,[11],[1.0])|(6,[0],[1.0])|(6,[0],[1.0])|(3,[0],[1.0])|\n",
            "|          4|       1|     1|Futrelle, Mrs. Ja...|female|               35|    1|    0|   53.1|       S|     1.0|        1.0|    14.0|       1.0|       0.0|          0.0|    (1,[],[])|(2,[1],[1.0])|(88,[14],[1.0])|(6,[1],[1.0])|(6,[0],[1.0])|(3,[0],[1.0])|\n",
            "|          5|       0|     3|Allen, Mr. Willia...|  male|               35|    0|    0|   8.05|       S|     0.0|        0.0|    14.0|       0.0|       0.0|          0.0|(1,[0],[1.0])|(2,[0],[1.0])|(88,[14],[1.0])|(6,[0],[1.0])|(6,[0],[1.0])|(3,[0],[1.0])|\n",
            "|          6|       0|     3|    Moran, Mr. James|  male|29.69911764705882|    0|    0| 8.4583|       Q|     0.0|        0.0|     0.0|       0.0|       0.0|          2.0|(1,[0],[1.0])|(2,[0],[1.0])| (88,[0],[1.0])|(6,[0],[1.0])|(6,[0],[1.0])|(3,[2],[1.0])|\n",
            "|          7|       0|     1|McCarthy, Mr. Tim...|  male|               54|    0|    0|51.8625|       S|     0.0|        1.0|    33.0|       0.0|       0.0|          0.0|(1,[0],[1.0])|(2,[1],[1.0])|(88,[33],[1.0])|(6,[0],[1.0])|(6,[0],[1.0])|(3,[0],[1.0])|\n",
            "|          8|       0|     3|Palsson, Master. ...|  male|                2|    3|    1| 21.075|       S|     0.0|        0.0|    27.0|       4.0|       1.0|          0.0|(1,[0],[1.0])|(2,[0],[1.0])|(88,[27],[1.0])|(6,[4],[1.0])|(6,[1],[1.0])|(3,[0],[1.0])|\n",
            "|          9|       1|     3|Johnson, Mrs. Osc...|female|               27|    0|    2|11.1333|       S|     1.0|        0.0|    12.0|       0.0|       2.0|          0.0|    (1,[],[])|(2,[0],[1.0])|(88,[12],[1.0])|(6,[0],[1.0])|(6,[2],[1.0])|(3,[0],[1.0])|\n",
            "|         10|       1|     2|Nasser, Mrs. Nich...|female|               14|    1|    0|30.0708|       C|     1.0|        2.0|    37.0|       1.0|       0.0|          1.0|    (1,[],[])|    (2,[],[])|(88,[37],[1.0])|(6,[1],[1.0])|(6,[0],[1.0])|(3,[1],[1.0])|\n",
            "|         11|       1|     3|Sandstrom, Miss. ...|female|                4|    1|    1|   16.7|       S|     1.0|        0.0|    28.0|       1.0|       1.0|          0.0|    (1,[],[])|(2,[0],[1.0])|(88,[28],[1.0])|(6,[1],[1.0])|(6,[1],[1.0])|(3,[0],[1.0])|\n",
            "|         12|       1|     1|Bonnell, Miss. El...|female|               58|    0|    0|  26.55|       S|     1.0|        1.0|    45.0|       0.0|       0.0|          0.0|    (1,[],[])|(2,[1],[1.0])|(88,[45],[1.0])|(6,[0],[1.0])|(6,[0],[1.0])|(3,[0],[1.0])|\n",
            "|         13|       0|     3|Saundercock, Mr. ...|  male|               20|    0|    0|   8.05|       S|     0.0|        0.0|    17.0|       0.0|       0.0|          0.0|(1,[0],[1.0])|(2,[0],[1.0])|(88,[17],[1.0])|(6,[0],[1.0])|(6,[0],[1.0])|(3,[0],[1.0])|\n",
            "|         14|       0|     3|Andersson, Mr. An...|  male|               39|    1|    5| 31.275|       S|     0.0|        0.0|    21.0|       1.0|       4.0|          0.0|(1,[0],[1.0])|(2,[0],[1.0])|(88,[21],[1.0])|(6,[1],[1.0])|(6,[4],[1.0])|(3,[0],[1.0])|\n",
            "|         15|       0|     3|Vestrom, Miss. Hu...|female|               14|    0|    0| 7.8542|       S|     1.0|        0.0|    37.0|       0.0|       0.0|          0.0|    (1,[],[])|(2,[0],[1.0])|(88,[37],[1.0])|(6,[0],[1.0])|(6,[0],[1.0])|(3,[0],[1.0])|\n",
            "|         16|       1|     2|Hewlett, Mrs. (Ma...|female|               55|    0|    0|     16|       S|     1.0|        2.0|    66.0|       0.0|       0.0|          0.0|    (1,[],[])|    (2,[],[])|(88,[66],[1.0])|(6,[0],[1.0])|(6,[0],[1.0])|(3,[0],[1.0])|\n",
            "|         17|       0|     3|Rice, Master. Eugene|  male|                2|    4|    1| 29.125|       Q|     0.0|        0.0|    27.0|       3.0|       1.0|          2.0|(1,[0],[1.0])|(2,[0],[1.0])|(88,[27],[1.0])|(6,[3],[1.0])|(6,[1],[1.0])|(3,[2],[1.0])|\n",
            "|         18|       1|     2|Williams, Mr. Cha...|  male|29.69911764705882|    0|    0|     13|       S|     0.0|        2.0|     0.0|       0.0|       0.0|          0.0|(1,[0],[1.0])|    (2,[],[])| (88,[0],[1.0])|(6,[0],[1.0])|(6,[0],[1.0])|(3,[0],[1.0])|\n",
            "|         19|       0|     3|Vander Planke, Mr...|female|               31|    1|    0|     18|       S|     1.0|        0.0|    16.0|       1.0|       0.0|          0.0|    (1,[],[])|(2,[0],[1.0])|(88,[16],[1.0])|(6,[1],[1.0])|(6,[0],[1.0])|(3,[0],[1.0])|\n",
            "|         20|       1|     3|Masselmani, Mrs. ...|female|29.69911764705882|    0|    0|  7.225|       C|     1.0|        0.0|     0.0|       0.0|       0.0|          1.0|    (1,[],[])|(2,[0],[1.0])| (88,[0],[1.0])|(6,[0],[1.0])|(6,[0],[1.0])|(3,[1],[1.0])|\n",
            "+-----------+--------+------+--------------------+------+-----------------+-----+-----+-------+--------+--------+-----------+--------+----------+----------+-------------+-------------+-------------+---------------+-------------+-------------+-------------+\n",
            "only showing top 20 rows\n",
            "\n"
          ],
          "name": "stdout"
        }
      ]
    },
    {
      "cell_type": "code",
      "metadata": {
        "colab": {
          "base_uri": "https://localhost:8080/"
        },
        "id": "WwcP4_Y8-trx",
        "outputId": "13b4c542-9de6-4676-f7f7-0ad0d9d068d0"
      },
      "source": [
        "from pyspark.ml.feature import VectorAssembler\n",
        "\n",
        "va = VectorAssembler(inputCols=['SexHot',\n",
        "                                'PclassHot',\n",
        "                                'AgeHot',\n",
        "                                'SibspHot',\n",
        "                                'ParchHot',\n",
        "                                'EmbarkedHot'],\n",
        "                    outputCol='vector')\n",
        "\n",
        "pipeline = Pipeline(stages=[va])\n",
        "\n",
        "df_transformed = pipeline.fit(df_transformed).transform(df_transformed)\n",
        "df_transformed.show()"
      ],
      "execution_count": 9,
      "outputs": [
        {
          "output_type": "stream",
          "text": [
            "+-----------+--------+------+--------------------+------+-----------------+-----+-----+-------+--------+--------+-----------+--------+----------+----------+-------------+-------------+-------------+---------------+-------------+-------------+-------------+--------------------+\n",
            "|PassengerId|Survived|Pclass|                Name|   Sex|              Age|SibSp|Parch|   Fare|Embarked|SexIndex|PclassIndex|AgeIndex|SibspIndex|ParchIndex|EmbarkedIndex|       SexHot|    PclassHot|         AgeHot|     SibspHot|     ParchHot|  EmbarkedHot|              vector|\n",
            "+-----------+--------+------+--------------------+------+-----------------+-----+-----+-------+--------+--------+-----------+--------+----------+----------+-------------+-------------+-------------+---------------+-------------+-------------+-------------+--------------------+\n",
            "|          1|       0|     3|Braund, Mr. Owen ...|  male|               22|    1|    0|   7.25|       S|     0.0|        0.0|     2.0|       1.0|       0.0|          0.0|(1,[0],[1.0])|(2,[0],[1.0])| (88,[2],[1.0])|(6,[1],[1.0])|(6,[0],[1.0])|(3,[0],[1.0])|(106,[0,1,5,92,97...|\n",
            "|          2|       1|     1|Cumings, Mrs. Joh...|female|               38|    1|    0|71.2833|       C|     1.0|        1.0|    26.0|       1.0|       0.0|          1.0|    (1,[],[])|(2,[1],[1.0])|(88,[26],[1.0])|(6,[1],[1.0])|(6,[0],[1.0])|(3,[1],[1.0])|(106,[2,29,92,97,...|\n",
            "|          3|       1|     3|Heikkinen, Miss. ...|female|               26|    0|    0|  7.925|       S|     1.0|        0.0|    11.0|       0.0|       0.0|          0.0|    (1,[],[])|(2,[0],[1.0])|(88,[11],[1.0])|(6,[0],[1.0])|(6,[0],[1.0])|(3,[0],[1.0])|(106,[1,14,91,97,...|\n",
            "|          4|       1|     1|Futrelle, Mrs. Ja...|female|               35|    1|    0|   53.1|       S|     1.0|        1.0|    14.0|       1.0|       0.0|          0.0|    (1,[],[])|(2,[1],[1.0])|(88,[14],[1.0])|(6,[1],[1.0])|(6,[0],[1.0])|(3,[0],[1.0])|(106,[2,17,92,97,...|\n",
            "|          5|       0|     3|Allen, Mr. Willia...|  male|               35|    0|    0|   8.05|       S|     0.0|        0.0|    14.0|       0.0|       0.0|          0.0|(1,[0],[1.0])|(2,[0],[1.0])|(88,[14],[1.0])|(6,[0],[1.0])|(6,[0],[1.0])|(3,[0],[1.0])|(106,[0,1,17,91,9...|\n",
            "|          6|       0|     3|    Moran, Mr. James|  male|29.69911764705882|    0|    0| 8.4583|       Q|     0.0|        0.0|     0.0|       0.0|       0.0|          2.0|(1,[0],[1.0])|(2,[0],[1.0])| (88,[0],[1.0])|(6,[0],[1.0])|(6,[0],[1.0])|(3,[2],[1.0])|(106,[0,1,3,91,97...|\n",
            "|          7|       0|     1|McCarthy, Mr. Tim...|  male|               54|    0|    0|51.8625|       S|     0.0|        1.0|    33.0|       0.0|       0.0|          0.0|(1,[0],[1.0])|(2,[1],[1.0])|(88,[33],[1.0])|(6,[0],[1.0])|(6,[0],[1.0])|(3,[0],[1.0])|(106,[0,2,36,91,9...|\n",
            "|          8|       0|     3|Palsson, Master. ...|  male|                2|    3|    1| 21.075|       S|     0.0|        0.0|    27.0|       4.0|       1.0|          0.0|(1,[0],[1.0])|(2,[0],[1.0])|(88,[27],[1.0])|(6,[4],[1.0])|(6,[1],[1.0])|(3,[0],[1.0])|(106,[0,1,30,95,9...|\n",
            "|          9|       1|     3|Johnson, Mrs. Osc...|female|               27|    0|    2|11.1333|       S|     1.0|        0.0|    12.0|       0.0|       2.0|          0.0|    (1,[],[])|(2,[0],[1.0])|(88,[12],[1.0])|(6,[0],[1.0])|(6,[2],[1.0])|(3,[0],[1.0])|(106,[1,15,91,99,...|\n",
            "|         10|       1|     2|Nasser, Mrs. Nich...|female|               14|    1|    0|30.0708|       C|     1.0|        2.0|    37.0|       1.0|       0.0|          1.0|    (1,[],[])|    (2,[],[])|(88,[37],[1.0])|(6,[1],[1.0])|(6,[0],[1.0])|(3,[1],[1.0])|(106,[40,92,97,10...|\n",
            "|         11|       1|     3|Sandstrom, Miss. ...|female|                4|    1|    1|   16.7|       S|     1.0|        0.0|    28.0|       1.0|       1.0|          0.0|    (1,[],[])|(2,[0],[1.0])|(88,[28],[1.0])|(6,[1],[1.0])|(6,[1],[1.0])|(3,[0],[1.0])|(106,[1,31,92,98,...|\n",
            "|         12|       1|     1|Bonnell, Miss. El...|female|               58|    0|    0|  26.55|       S|     1.0|        1.0|    45.0|       0.0|       0.0|          0.0|    (1,[],[])|(2,[1],[1.0])|(88,[45],[1.0])|(6,[0],[1.0])|(6,[0],[1.0])|(3,[0],[1.0])|(106,[2,48,91,97,...|\n",
            "|         13|       0|     3|Saundercock, Mr. ...|  male|               20|    0|    0|   8.05|       S|     0.0|        0.0|    17.0|       0.0|       0.0|          0.0|(1,[0],[1.0])|(2,[0],[1.0])|(88,[17],[1.0])|(6,[0],[1.0])|(6,[0],[1.0])|(3,[0],[1.0])|(106,[0,1,20,91,9...|\n",
            "|         14|       0|     3|Andersson, Mr. An...|  male|               39|    1|    5| 31.275|       S|     0.0|        0.0|    21.0|       1.0|       4.0|          0.0|(1,[0],[1.0])|(2,[0],[1.0])|(88,[21],[1.0])|(6,[1],[1.0])|(6,[4],[1.0])|(3,[0],[1.0])|(106,[0,1,24,92,1...|\n",
            "|         15|       0|     3|Vestrom, Miss. Hu...|female|               14|    0|    0| 7.8542|       S|     1.0|        0.0|    37.0|       0.0|       0.0|          0.0|    (1,[],[])|(2,[0],[1.0])|(88,[37],[1.0])|(6,[0],[1.0])|(6,[0],[1.0])|(3,[0],[1.0])|(106,[1,40,91,97,...|\n",
            "|         16|       1|     2|Hewlett, Mrs. (Ma...|female|               55|    0|    0|     16|       S|     1.0|        2.0|    66.0|       0.0|       0.0|          0.0|    (1,[],[])|    (2,[],[])|(88,[66],[1.0])|(6,[0],[1.0])|(6,[0],[1.0])|(3,[0],[1.0])|(106,[69,91,97,10...|\n",
            "|         17|       0|     3|Rice, Master. Eugene|  male|                2|    4|    1| 29.125|       Q|     0.0|        0.0|    27.0|       3.0|       1.0|          2.0|(1,[0],[1.0])|(2,[0],[1.0])|(88,[27],[1.0])|(6,[3],[1.0])|(6,[1],[1.0])|(3,[2],[1.0])|(106,[0,1,30,94,9...|\n",
            "|         18|       1|     2|Williams, Mr. Cha...|  male|29.69911764705882|    0|    0|     13|       S|     0.0|        2.0|     0.0|       0.0|       0.0|          0.0|(1,[0],[1.0])|    (2,[],[])| (88,[0],[1.0])|(6,[0],[1.0])|(6,[0],[1.0])|(3,[0],[1.0])|(106,[0,3,91,97,1...|\n",
            "|         19|       0|     3|Vander Planke, Mr...|female|               31|    1|    0|     18|       S|     1.0|        0.0|    16.0|       1.0|       0.0|          0.0|    (1,[],[])|(2,[0],[1.0])|(88,[16],[1.0])|(6,[1],[1.0])|(6,[0],[1.0])|(3,[0],[1.0])|(106,[1,19,92,97,...|\n",
            "|         20|       1|     3|Masselmani, Mrs. ...|female|29.69911764705882|    0|    0|  7.225|       C|     1.0|        0.0|     0.0|       0.0|       0.0|          1.0|    (1,[],[])|(2,[0],[1.0])| (88,[0],[1.0])|(6,[0],[1.0])|(6,[0],[1.0])|(3,[1],[1.0])|(106,[1,3,91,97,1...|\n",
            "+-----------+--------+------+--------------------+------+-----------------+-----+-----+-------+--------+--------+-----------+--------+----------+----------+-------------+-------------+-------------+---------------+-------------+-------------+-------------+--------------------+\n",
            "only showing top 20 rows\n",
            "\n"
          ],
          "name": "stdout"
        }
      ]
    },
    {
      "cell_type": "code",
      "metadata": {
        "colab": {
          "base_uri": "https://localhost:8080/"
        },
        "id": "IAq4XooSycXb",
        "outputId": "0d305604-4ccc-4ec5-c3ff-9b8565939ef2"
      },
      "source": [
        "train, test = df_transformed.randomSplit([0.8, 0.2], seed=None)\n",
        "\n",
        "train = train.withColumn('testOrtrain', lit('train'))\n",
        "test = test.withColumn('testOrtrain', lit('test'))\n",
        "\n",
        "train.show()\n",
        "test.show()"
      ],
      "execution_count": 10,
      "outputs": [
        {
          "output_type": "stream",
          "text": [
            "+-----------+--------+------+--------------------+------+-----------------+-----+-----+--------+--------+--------+-----------+--------+----------+----------+-------------+-------------+-------------+---------------+-------------+-------------+-------------+--------------------+-----------+\n",
            "|PassengerId|Survived|Pclass|                Name|   Sex|              Age|SibSp|Parch|    Fare|Embarked|SexIndex|PclassIndex|AgeIndex|SibspIndex|ParchIndex|EmbarkedIndex|       SexHot|    PclassHot|         AgeHot|     SibspHot|     ParchHot|  EmbarkedHot|              vector|testOrtrain|\n",
            "+-----------+--------+------+--------------------+------+-----------------+-----+-----+--------+--------+--------+-----------+--------+----------+----------+-------------+-------------+-------------+---------------+-------------+-------------+-------------+--------------------+-----------+\n",
            "|          1|       0|     3|Braund, Mr. Owen ...|  male|               22|    1|    0|    7.25|       S|     0.0|        0.0|     2.0|       1.0|       0.0|          0.0|(1,[0],[1.0])|(2,[0],[1.0])| (88,[2],[1.0])|(6,[1],[1.0])|(6,[0],[1.0])|(3,[0],[1.0])|(106,[0,1,5,92,97...|      train|\n",
            "|         10|       1|     2|Nasser, Mrs. Nich...|female|               14|    1|    0| 30.0708|       C|     1.0|        2.0|    37.0|       1.0|       0.0|          1.0|    (1,[],[])|    (2,[],[])|(88,[37],[1.0])|(6,[1],[1.0])|(6,[0],[1.0])|(3,[1],[1.0])|(106,[40,92,97,10...|      train|\n",
            "|        100|       0|     2|   Kantor, Mr. Sinai|  male|               34|    1|    0|      26|       S|     0.0|        2.0|    20.0|       1.0|       0.0|          0.0|(1,[0],[1.0])|    (2,[],[])|(88,[20],[1.0])|(6,[1],[1.0])|(6,[0],[1.0])|(3,[0],[1.0])|(106,[0,23,92,97,...|      train|\n",
            "|        101|       0|     3|Petranec, Miss. M...|female|               28|    0|    0|  7.8958|       S|     1.0|        0.0|     5.0|       0.0|       0.0|          0.0|    (1,[],[])|(2,[0],[1.0])| (88,[5],[1.0])|(6,[0],[1.0])|(6,[0],[1.0])|(3,[0],[1.0])|(106,[1,8,91,97,1...|      train|\n",
            "|        102|       0|     3|\"Petroff, Mr. Pas...|  male|29.69911764705882|    0|    0|  7.8958|       S|     0.0|        0.0|     0.0|       0.0|       0.0|          0.0|(1,[0],[1.0])|(2,[0],[1.0])| (88,[0],[1.0])|(6,[0],[1.0])|(6,[0],[1.0])|(3,[0],[1.0])|(106,[0,1,3,91,97...|      train|\n",
            "|        103|       0|     1|White, Mr. Richar...|  male|               21|    0|    1| 77.2875|       S|     0.0|        1.0|     7.0|       0.0|       1.0|          0.0|(1,[0],[1.0])|(2,[1],[1.0])| (88,[7],[1.0])|(6,[0],[1.0])|(6,[1],[1.0])|(3,[0],[1.0])|(106,[0,2,10,91,9...|      train|\n",
            "|        107|       1|     3|Salkjelsvik, Miss...|female|               21|    0|    0|    7.65|       S|     1.0|        0.0|     7.0|       0.0|       0.0|          0.0|    (1,[],[])|(2,[0],[1.0])| (88,[7],[1.0])|(6,[0],[1.0])|(6,[0],[1.0])|(3,[0],[1.0])|(106,[1,10,91,97,...|      train|\n",
            "|        108|       1|     3|Moss, Mr. Albert ...|  male|29.69911764705882|    0|    0|   7.775|       S|     0.0|        0.0|     0.0|       0.0|       0.0|          0.0|(1,[0],[1.0])|(2,[0],[1.0])| (88,[0],[1.0])|(6,[0],[1.0])|(6,[0],[1.0])|(3,[0],[1.0])|(106,[0,1,3,91,97...|      train|\n",
            "|        109|       0|     3|     Rekic, Mr. Tido|  male|               38|    0|    0|  7.8958|       S|     0.0|        0.0|    26.0|       0.0|       0.0|          0.0|(1,[0],[1.0])|(2,[0],[1.0])|(88,[26],[1.0])|(6,[0],[1.0])|(6,[0],[1.0])|(3,[0],[1.0])|(106,[0,1,29,91,9...|      train|\n",
            "|         11|       1|     3|Sandstrom, Miss. ...|female|                4|    1|    1|    16.7|       S|     1.0|        0.0|    28.0|       1.0|       1.0|          0.0|    (1,[],[])|(2,[0],[1.0])|(88,[28],[1.0])|(6,[1],[1.0])|(6,[1],[1.0])|(3,[0],[1.0])|(106,[1,31,92,98,...|      train|\n",
            "|        110|       1|     3| Moran, Miss. Bertha|female|29.69911764705882|    1|    0|   24.15|       Q|     1.0|        0.0|     0.0|       1.0|       0.0|          2.0|    (1,[],[])|(2,[0],[1.0])| (88,[0],[1.0])|(6,[1],[1.0])|(6,[0],[1.0])|(3,[2],[1.0])|(106,[1,3,92,97,1...|      train|\n",
            "|        111|       0|     1|Porter, Mr. Walte...|  male|               47|    0|    0|      52|       S|     0.0|        1.0|    31.0|       0.0|       0.0|          0.0|(1,[0],[1.0])|(2,[1],[1.0])|(88,[31],[1.0])|(6,[0],[1.0])|(6,[0],[1.0])|(3,[0],[1.0])|(106,[0,2,34,91,9...|      train|\n",
            "|        112|       0|     3|Zabour, Miss. Hileni|female|             14.5|    1|    0| 14.4542|       C|     1.0|        0.0|    77.0|       1.0|       0.0|          1.0|    (1,[],[])|(2,[0],[1.0])|(88,[77],[1.0])|(6,[1],[1.0])|(6,[0],[1.0])|(3,[1],[1.0])|(106,[1,80,92,97,...|      train|\n",
            "|        113|       0|     3|Barton, Mr. David...|  male|               22|    0|    0|    8.05|       S|     0.0|        0.0|     2.0|       0.0|       0.0|          0.0|(1,[0],[1.0])|(2,[0],[1.0])| (88,[2],[1.0])|(6,[0],[1.0])|(6,[0],[1.0])|(3,[0],[1.0])|(106,[0,1,5,91,97...|      train|\n",
            "|        114|       0|     3|Jussila, Miss. Ka...|female|               20|    1|    0|   9.825|       S|     1.0|        0.0|    17.0|       1.0|       0.0|          0.0|    (1,[],[])|(2,[0],[1.0])|(88,[17],[1.0])|(6,[1],[1.0])|(6,[0],[1.0])|(3,[0],[1.0])|(106,[1,20,92,97,...|      train|\n",
            "|        115|       0|     3|Attalah, Miss. Ma...|female|               17|    0|    0| 14.4583|       C|     1.0|        0.0|    22.0|       0.0|       0.0|          1.0|    (1,[],[])|(2,[0],[1.0])|(88,[22],[1.0])|(6,[0],[1.0])|(6,[0],[1.0])|(3,[1],[1.0])|(106,[1,25,91,97,...|      train|\n",
            "|        116|       0|     3|Pekoniemi, Mr. Ed...|  male|               21|    0|    0|   7.925|       S|     0.0|        0.0|     7.0|       0.0|       0.0|          0.0|(1,[0],[1.0])|(2,[0],[1.0])| (88,[7],[1.0])|(6,[0],[1.0])|(6,[0],[1.0])|(3,[0],[1.0])|(106,[0,1,10,91,9...|      train|\n",
            "|        117|       0|     3|Connors, Mr. Patrick|  male|             70.5|    0|    0|    7.75|       Q|     0.0|        0.0|    86.0|       0.0|       0.0|          2.0|(1,[0],[1.0])|(2,[0],[1.0])|(88,[86],[1.0])|(6,[0],[1.0])|(6,[0],[1.0])|(3,[2],[1.0])|(106,[0,1,89,91,9...|      train|\n",
            "|        118|       0|     2|Turpin, Mr. Willi...|  male|               29|    1|    0|      21|       S|     0.0|        2.0|    10.0|       1.0|       0.0|          0.0|(1,[0],[1.0])|    (2,[],[])|(88,[10],[1.0])|(6,[1],[1.0])|(6,[0],[1.0])|(3,[0],[1.0])|(106,[0,13,92,97,...|      train|\n",
            "|        119|       0|     1|Baxter, Mr. Quigg...|  male|               24|    0|    1|247.5208|       C|     0.0|        1.0|     1.0|       0.0|       1.0|          1.0|(1,[0],[1.0])|(2,[1],[1.0])| (88,[1],[1.0])|(6,[0],[1.0])|(6,[1],[1.0])|(3,[1],[1.0])|(106,[0,2,4,91,98...|      train|\n",
            "+-----------+--------+------+--------------------+------+-----------------+-----+-----+--------+--------+--------+-----------+--------+----------+----------+-------------+-------------+-------------+---------------+-------------+-------------+-------------+--------------------+-----------+\n",
            "only showing top 20 rows\n",
            "\n",
            "+-----------+--------+------+--------------------+------+-----------------+-----+-----+-------+--------+--------+-----------+--------+----------+----------+-------------+-------------+-------------+---------------+-------------+-------------+-------------+--------------------+-----------+\n",
            "|PassengerId|Survived|Pclass|                Name|   Sex|              Age|SibSp|Parch|   Fare|Embarked|SexIndex|PclassIndex|AgeIndex|SibspIndex|ParchIndex|EmbarkedIndex|       SexHot|    PclassHot|         AgeHot|     SibspHot|     ParchHot|  EmbarkedHot|              vector|testOrtrain|\n",
            "+-----------+--------+------+--------------------+------+-----------------+-----+-----+-------+--------+--------+-----------+--------+----------+----------+-------------+-------------+-------------+---------------+-------------+-------------+-------------+--------------------+-----------+\n",
            "|        104|       0|     3|Johansson, Mr. Gu...|  male|               33|    0|    0| 8.6542|       S|     0.0|        0.0|    19.0|       0.0|       0.0|          0.0|(1,[0],[1.0])|(2,[0],[1.0])|(88,[19],[1.0])|(6,[0],[1.0])|(6,[0],[1.0])|(3,[0],[1.0])|(106,[0,1,22,91,9...|       test|\n",
            "|        105|       0|     3|Gustafsson, Mr. A...|  male|               37|    2|    0|  7.925|       S|     0.0|        0.0|    39.0|       2.0|       0.0|          0.0|(1,[0],[1.0])|(2,[0],[1.0])|(88,[39],[1.0])|(6,[2],[1.0])|(6,[0],[1.0])|(3,[0],[1.0])|(106,[0,1,42,93,9...|       test|\n",
            "|        106|       0|     3|Mionoff, Mr. Stoy...|  male|               28|    0|    0| 7.8958|       S|     0.0|        0.0|     5.0|       0.0|       0.0|          0.0|(1,[0],[1.0])|(2,[0],[1.0])| (88,[5],[1.0])|(6,[0],[1.0])|(6,[0],[1.0])|(3,[0],[1.0])|(106,[0,1,8,91,97...|       test|\n",
            "|        129|       1|     3|   Peter, Miss. Anna|female|29.69911764705882|    1|    1|22.3583|       C|     1.0|        0.0|     0.0|       1.0|       1.0|          1.0|    (1,[],[])|(2,[0],[1.0])| (88,[0],[1.0])|(6,[1],[1.0])|(6,[1],[1.0])|(3,[1],[1.0])|(106,[1,3,92,98,1...|       test|\n",
            "|        135|       0|     2|Sobey, Mr. Samuel...|  male|               25|    0|    0|     13|       S|     0.0|        2.0|     8.0|       0.0|       0.0|          0.0|(1,[0],[1.0])|    (2,[],[])| (88,[8],[1.0])|(6,[0],[1.0])|(6,[0],[1.0])|(3,[0],[1.0])|(106,[0,11,91,97,...|       test|\n",
            "|        144|       0|     3| Burke, Mr. Jeremiah|  male|               19|    0|    0|   6.75|       Q|     0.0|        0.0|     4.0|       0.0|       0.0|          2.0|(1,[0],[1.0])|(2,[0],[1.0])| (88,[4],[1.0])|(6,[0],[1.0])|(6,[0],[1.0])|(3,[2],[1.0])|(106,[0,1,7,91,97...|       test|\n",
            "|        151|       0|     2|Bateman, Rev. Rob...|  male|               51|    0|    0| 12.525|       S|     0.0|        2.0|    36.0|       0.0|       0.0|          0.0|(1,[0],[1.0])|    (2,[],[])|(88,[36],[1.0])|(6,[0],[1.0])|(6,[0],[1.0])|(3,[0],[1.0])|(106,[0,39,91,97,...|       test|\n",
            "|        153|       0|     3|    Meo, Mr. Alfonzo|  male|             55.5|    0|    0|   8.05|       S|     0.0|        0.0|    84.0|       0.0|       0.0|          0.0|(1,[0],[1.0])|(2,[0],[1.0])|(88,[84],[1.0])|(6,[0],[1.0])|(6,[0],[1.0])|(3,[0],[1.0])|(106,[0,1,87,91,9...|       test|\n",
            "|        155|       0|     3|Olsen, Mr. Ole Ma...|  male|29.69911764705882|    0|    0| 7.3125|       S|     0.0|        0.0|     0.0|       0.0|       0.0|          0.0|(1,[0],[1.0])|(2,[0],[1.0])| (88,[0],[1.0])|(6,[0],[1.0])|(6,[0],[1.0])|(3,[0],[1.0])|(106,[0,1,3,91,97...|       test|\n",
            "|        164|       0|     3|     Calic, Mr. Jovo|  male|               17|    0|    0| 8.6625|       S|     0.0|        0.0|    22.0|       0.0|       0.0|          0.0|(1,[0],[1.0])|(2,[0],[1.0])|(88,[22],[1.0])|(6,[0],[1.0])|(6,[0],[1.0])|(3,[0],[1.0])|(106,[0,1,25,91,9...|       test|\n",
            "|        167|       1|     1|Chibnall, Mrs. (E...|female|29.69911764705882|    0|    1|     55|       S|     1.0|        1.0|     0.0|       0.0|       1.0|          0.0|    (1,[],[])|(2,[1],[1.0])| (88,[0],[1.0])|(6,[0],[1.0])|(6,[1],[1.0])|(3,[0],[1.0])|(106,[2,3,91,98,1...|       test|\n",
            "|        168|       0|     3|Skoog, Mrs. Willi...|female|               45|    1|    4|   27.9|       S|     1.0|        0.0|    25.0|       1.0|       5.0|          0.0|    (1,[],[])|(2,[0],[1.0])|(88,[25],[1.0])|(6,[1],[1.0])|(6,[5],[1.0])|(3,[0],[1.0])|(106,[1,28,92,102...|       test|\n",
            "|        173|       1|     3|Johnson, Miss. El...|female|                1|    1|    1|11.1333|       S|     1.0|        0.0|    35.0|       1.0|       1.0|          0.0|    (1,[],[])|(2,[0],[1.0])|(88,[35],[1.0])|(6,[1],[1.0])|(6,[1],[1.0])|(3,[0],[1.0])|(106,[1,38,92,98,...|       test|\n",
            "|        177|       0|     3|Lefebre, Master. ...|  male|29.69911764705882|    3|    1|25.4667|       S|     0.0|        0.0|     0.0|       4.0|       1.0|          0.0|(1,[0],[1.0])|(2,[0],[1.0])| (88,[0],[1.0])|(6,[4],[1.0])|(6,[1],[1.0])|(3,[0],[1.0])|(106,[0,1,3,95,98...|       test|\n",
            "|        182|       0|     2|    Pernot, Mr. Rene|  male|29.69911764705882|    0|    0|  15.05|       C|     0.0|        2.0|     0.0|       0.0|       0.0|          1.0|(1,[0],[1.0])|    (2,[],[])| (88,[0],[1.0])|(6,[0],[1.0])|(6,[0],[1.0])|(3,[1],[1.0])|(106,[0,3,91,97,1...|       test|\n",
            "|        184|       1|     2|Becker, Master. R...|  male|                1|    2|    1|     39|       S|     0.0|        2.0|    35.0|       2.0|       1.0|          0.0|(1,[0],[1.0])|    (2,[],[])|(88,[35],[1.0])|(6,[2],[1.0])|(6,[1],[1.0])|(3,[0],[1.0])|(106,[0,38,93,98,...|       test|\n",
            "|        194|       1|     2|Navratil, Master....|  male|                3|    1|    1|     26|       S|     0.0|        2.0|    38.0|       1.0|       1.0|          0.0|(1,[0],[1.0])|    (2,[],[])|(88,[38],[1.0])|(6,[1],[1.0])|(6,[1],[1.0])|(3,[0],[1.0])|(106,[0,41,92,98,...|       test|\n",
            "|        197|       0|     3| Mernagh, Mr. Robert|  male|29.69911764705882|    0|    0|   7.75|       Q|     0.0|        0.0|     0.0|       0.0|       0.0|          2.0|(1,[0],[1.0])|(2,[0],[1.0])| (88,[0],[1.0])|(6,[0],[1.0])|(6,[0],[1.0])|(3,[2],[1.0])|(106,[0,1,3,91,97...|       test|\n",
            "|        206|       0|     3|Strom, Miss. Telm...|female|                2|    0|    1|10.4625|       S|     1.0|        0.0|    27.0|       0.0|       1.0|          0.0|    (1,[],[])|(2,[0],[1.0])|(88,[27],[1.0])|(6,[0],[1.0])|(6,[1],[1.0])|(3,[0],[1.0])|(106,[1,30,91,98,...|       test|\n",
            "|        207|       0|     3|Backstrom, Mr. Ka...|  male|               32|    1|    0|  15.85|       S|     0.0|        0.0|    13.0|       1.0|       0.0|          0.0|(1,[0],[1.0])|(2,[0],[1.0])|(88,[13],[1.0])|(6,[1],[1.0])|(6,[0],[1.0])|(3,[0],[1.0])|(106,[0,1,16,92,9...|       test|\n",
            "+-----------+--------+------+--------------------+------+-----------------+-----+-----+-------+--------+--------+-----------+--------+----------+----------+-------------+-------------+-------------+---------------+-------------+-------------+-------------+--------------------+-----------+\n",
            "only showing top 20 rows\n",
            "\n"
          ],
          "name": "stdout"
        }
      ]
    },
    {
      "cell_type": "code",
      "metadata": {
        "colab": {
          "base_uri": "https://localhost:8080/"
        },
        "id": "n_2zQFUP3RQF",
        "outputId": "784ffc37-a192-43a6-a76a-982bb174eb99"
      },
      "source": [
        "from pyspark.ml.classification import LogisticRegression\n",
        "from pyspark.ml.evaluation import BinaryClassificationEvaluator\n",
        "from pyspark.sql import functions as F\n",
        "\n",
        "lr = (LogisticRegression().\n",
        "      setLabelCol('Survived').\n",
        "      setFeaturesCol('vector').\n",
        "      setRegParam(0.0).\n",
        "      setMaxIter(100).\n",
        "      setElasticNetParam(0.)\n",
        "      )\n",
        "\n",
        "lrmodel = lr.fit(train)\n",
        "\n",
        "lrDf = lrmodel.transform(test)\n",
        "lrDf.groupBy('prediction', 'Survived').count().show()\n",
        "\n",
        "evaluator = BinaryClassificationEvaluator(rawPredictionCol = 'prediction', labelCol='Survived')\n",
        "print(evaluator.evaluate(lrDf)*100 , '%')"
      ],
      "execution_count": 37,
      "outputs": [
        {
          "output_type": "stream",
          "text": [
            "+----------+--------+-----+\n",
            "|prediction|Survived|count|\n",
            "+----------+--------+-----+\n",
            "|       1.0|       0|   13|\n",
            "|       0.0|       0|   89|\n",
            "|       0.0|       1|   21|\n",
            "|       1.0|       1|   41|\n",
            "+----------+--------+-----+\n",
            "\n",
            "76.69196710942441 %\n"
          ],
          "name": "stdout"
        }
      ]
    },
    {
      "cell_type": "code",
      "metadata": {
        "colab": {
          "base_uri": "https://localhost:8080/"
        },
        "id": "QYs7FSYVmK5W",
        "outputId": "f1448b91-2d8a-424d-cce9-3da72d6f339f"
      },
      "source": [
        "from sklearn.metrics import precision_score\n",
        "survived_list = list(lrDf.select('Survived').toPandas()['Survived'])\n",
        "prediction_list = list(lrDf.select('prediction').toPandas()['prediction'])\n",
        "\n",
        "print(\"precision \", precision_score(survived_list, prediction_list, average='micro'))"
      ],
      "execution_count": 38,
      "outputs": [
        {
          "output_type": "stream",
          "text": [
            "precision  0.7926829268292683\n"
          ],
          "name": "stdout"
        }
      ]
    },
    {
      "cell_type": "code",
      "metadata": {
        "colab": {
          "base_uri": "https://localhost:8080/"
        },
        "id": "eTFvOc2nmzDy",
        "outputId": "005967b7-132c-4108-ab3f-59a095603851"
      },
      "source": [
        "print(\"coefficients:\", lrmodel.coefficients)\n",
        "\n",
        "print(\"intercept: \", lrmodel.intercept)\n",
        "print()\n",
        "\n",
        "print(\"avg of 'Age' coefficients\")\n",
        "age_list = [float (i) for i in lrmodel.coefficients[3:91]]\n",
        "sum = 0\n",
        "for a in age_list:\n",
        "  if a<0:\n",
        "    sum+=(a*-1)\n",
        "  else:\n",
        "    sum+=a\n",
        "print(sum/88)\n",
        "\n",
        "print(\"avg of 'Sibsp' coefficients\")\n",
        "age_list = [float (i) for i in lrmodel.coefficients[91:97]]\n",
        "sum = 0\n",
        "for a in age_list:\n",
        "  if a<0:\n",
        "    sum+=(a*-1)\n",
        "  else:\n",
        "    sum+=a\n",
        "print(sum/6)\n",
        "\n",
        "print(\"avg of 'Parch' coefficients\")\n",
        "age_list = [float (i) for i in lrmodel.coefficients[97:103]]\n",
        "sum = 0\n",
        "for a in age_list:\n",
        "  if a<0:\n",
        "    sum+=(a*-1)\n",
        "  else:\n",
        "    sum+=a\n",
        "print(sum/6)"
      ],
      "execution_count": 35,
      "outputs": [
        {
          "output_type": "stream",
          "text": [
            "coefficients: [-3.0453521046227303,-0.7727621859876808,1.4160107334340686,-384.1564249533121,-383.656630887193,-383.7922258037415,-383.99393614591685,-383.730653014296,-384.13733591772643,-383.69183503802486,-384.6110791056672,-383.89130909074345,-383.2914574518148,-383.0917234409824,-383.3665741636376,-382.3248907561535,-381.3688186253296,-382.7592997674926,-382.98809583051786,-383.92969343874927,-383.35852397050206,-383.9052036902627,-383.20535615935216,-383.04327316369694,-385.0023664356245,-383.8503919601325,-384.49612090144956,-383.16379608984414,-384.1080215188952,-384.32237682913086,-385.8162202418499,-380.3204703241811,-384.4282752722277,-384.05980974381714,-4427.433564742148,-382.79002826452427,-384.8504025198143,-382.63229436662704,-379.35385855472504,-383.88210460568047,-384.1341299539762,-379.55259349856044,-3870.359400791165,-384.88345857003384,-384.89285889073864,-383.58987993273144,-382.49643610724155,-384.19657861257446,-384.94758735078653,-382.1509978264837,3112.020188462821,-384.4231224021129,-385.3347238405395,3501.4335251738726,-382.0103374619843,-3248.7246576937355,4564.550819436747,-4373.37968327106,-4184.286766771149,-381.6927017996322,4545.634523130582,4701.240060580353,-4489.90730820932,2061.7036311422426,0.0,-5476.59899500591,-383.7835339332153,-1937.508992904183,-4150.18798842682,-384.2535958633595,-5875.821340758291,-2876.7697263057944,1956.1761586065843,-3910.7759921721813,-3402.8106555165778,-4434.709360860543,4744.711569310689,5138.884357725473,4600.743112919212,5158.466901835407,-4440.504509617306,-2304.021182996418,-2657.080208710077,-2304.021182996418,-2657.080208710077,-2718.2291166746822,2121.9170878849923,0.0,-3248.7246576937355,-2866.964011569197,-2304.021182996418,916.1471735303608,916.196921191076,914.8650433428751,912.8327169779059,914.0665263402722,-2869.191680148593,16.37652788703895,16.287700770363013,16.292668257098658,16.80641155911331,15.888803951518904,-4701.134415174938,-418.9802335228399,-418.5542053668814,-418.4270396028815]\n",
            "intercept:  -128.47516887581625\n",
            "\n",
            "avg of 'Age' coefficients\n",
            "1680.9672277919294\n",
            "avg of 'Sibsp' coefficients\n",
            "1240.5500102551805\n",
            "avg of 'Parch' coefficients\n",
            "797.1310879333452\n"
          ],
          "name": "stdout"
        }
      ]
    },
    {
      "cell_type": "code",
      "metadata": {
        "id": "Yb0uKHxfLMCs"
      },
      "source": [
        ""
      ],
      "execution_count": null,
      "outputs": []
    }
  ]
}