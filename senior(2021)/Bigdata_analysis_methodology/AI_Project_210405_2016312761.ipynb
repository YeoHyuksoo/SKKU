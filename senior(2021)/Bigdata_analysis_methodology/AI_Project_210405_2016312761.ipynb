{
  "nbformat": 4,
  "nbformat_minor": 0,
  "metadata": {
    "colab": {
      "name": "AI_Project_210405_2016312761.ipynb",
      "provenance": [],
      "collapsed_sections": []
    },
    "kernelspec": {
      "name": "python3",
      "display_name": "Python 3"
    },
    "language_info": {
      "name": "python"
    }
  },
  "cells": [
    {
      "cell_type": "markdown",
      "metadata": {
        "id": "L2MsG2LYXwGA"
      },
      "source": [
        "## Excercise1"
      ]
    },
    {
      "cell_type": "markdown",
      "metadata": {
        "id": "pUdiswWhXwGE"
      },
      "source": [
        "Q1. Create a vector with values ranging from 10 to 49 (ex. 10, 11, ... 49) \\\n",
        "\n"
      ]
    },
    {
      "cell_type": "code",
      "metadata": {
        "colab": {
          "base_uri": "https://localhost:8080/"
        },
        "id": "VJQ3Dda7XwGE",
        "outputId": "ff418446-b7d9-4de4-8818-3b2b00fee22b"
      },
      "source": [
        "# write your code\n",
        "import numpy as np\n",
        "vec = np.arange(10, 50, 1)\n",
        "print(vec)"
      ],
      "execution_count": null,
      "outputs": [
        {
          "output_type": "stream",
          "text": [
            "[10 11 12 13 14 15 16 17 18 19 20 21 22 23 24 25 26 27 28 29 30 31 32 33\n",
            " 34 35 36 37 38 39 40 41 42 43 44 45 46 47 48 49]\n"
          ],
          "name": "stdout"
        }
      ]
    },
    {
      "cell_type": "markdown",
      "metadata": {
        "id": "CIyis0SYXwGI"
      },
      "source": [
        "Q2. Create a vector with values ranging from 49 to 10 (ex. 49, 48, ... 10)\\\n"
      ]
    },
    {
      "cell_type": "code",
      "metadata": {
        "colab": {
          "base_uri": "https://localhost:8080/"
        },
        "id": "hDDgWeWCXwGJ",
        "outputId": "9c4fd330-9526-4878-e579-706e765bfa39"
      },
      "source": [
        "# write your code\n",
        "vec = np.arange(49, 9, -1)\n",
        "print(vec)"
      ],
      "execution_count": null,
      "outputs": [
        {
          "output_type": "stream",
          "text": [
            "[49 48 47 46 45 44 43 42 41 40 39 38 37 36 35 34 33 32 31 30 29 28 27 26\n",
            " 25 24 23 22 21 20 19 18 17 16 15 14 13 12 11 10]\n"
          ],
          "name": "stdout"
        }
      ]
    },
    {
      "cell_type": "markdown",
      "metadata": {
        "id": "lkXEXf8lXwGL"
      },
      "source": [
        "Q3. Get the positions where elements of 'a' and 'b' match? (Hint: np.where)\\\n",
        "Input)\\\n",
        "a = np.array([1,2,3,2,3,4,3,4,5,6])\\\n",
        "b = np.array([7,2,10,2,7,4,9,4,9,8])\\\n",
        "Output\\\n",
        "=> array([1, 3, 5, 7])\n"
      ]
    },
    {
      "cell_type": "code",
      "metadata": {
        "colab": {
          "base_uri": "https://localhost:8080/"
        },
        "id": "-9taz1TxXwGL",
        "outputId": "40553d41-053a-43b2-c12b-d839279491d0"
      },
      "source": [
        "a = np.array([1,2,3,2,3,4,3,4,5,6])\n",
        "b = np.array([7,2,10,2,7,4,9,4,9,8])\n",
        "\n",
        "# write your code\n",
        "np.where(a==b)[0]"
      ],
      "execution_count": null,
      "outputs": [
        {
          "output_type": "execute_result",
          "data": {
            "text/plain": [
              "array([1, 3, 5, 7])"
            ]
          },
          "metadata": {
            "tags": []
          },
          "execution_count": 19
        }
      ]
    },
    {
      "cell_type": "code",
      "metadata": {
        "colab": {
          "base_uri": "https://localhost:8080/"
        },
        "id": "doEXvEz1Qmo-",
        "outputId": "d6420e11-1dbf-4ed1-dd7b-98adc6bc63db"
      },
      "source": [
        "a == b"
      ],
      "execution_count": null,
      "outputs": [
        {
          "output_type": "execute_result",
          "data": {
            "text/plain": [
              "array([False,  True, False,  True, False,  True, False,  True, False,\n",
              "       False])"
            ]
          },
          "metadata": {
            "tags": []
          },
          "execution_count": 8
        }
      ]
    },
    {
      "cell_type": "markdown",
      "metadata": {
        "id": "ZmScYesTXwGO"
      },
      "source": [
        "Q4. Remove Negative values in the array ‘b’ (HARD, Hint: np.where)\\\n",
        "Input: a = np.array((3, -2, 2, -1, 3))\\\n",
        "Output:\\\n",
        "=> [3, 2, 3]"
      ]
    },
    {
      "cell_type": "code",
      "metadata": {
        "colab": {
          "base_uri": "https://localhost:8080/"
        },
        "id": "kpNfG2Q7XwGO",
        "outputId": "dca6e9e2-3404-454a-e4f7-a61c91c563f0"
      },
      "source": [
        "a = np.array((3, -2, 2, -1, 3))\n",
        "# write your code\n",
        "a[np.where(a>=0)].tolist()"
      ],
      "execution_count": null,
      "outputs": [
        {
          "output_type": "execute_result",
          "data": {
            "text/plain": [
              "[3, 2, 3]"
            ]
          },
          "metadata": {
            "tags": []
          },
          "execution_count": 18
        }
      ]
    },
    {
      "cell_type": "markdown",
      "metadata": {
        "id": "I7bJ0exaYwk6"
      },
      "source": [
        "## Exercise2\n",
        "\n",
        "**Restriction**\n",
        "- Convert it to pytorch tensor first. \n",
        "- Use only pytorch methods, not numpy.\n"
      ]
    },
    {
      "cell_type": "markdown",
      "metadata": {
        "id": "ncnXwHf2Ywk7"
      },
      "source": [
        "Q1. Using reshaping and indexing, print out as follows:\n",
        "\n",
        "Goal : \\\n",
        "`torch.Size([2, 2, 6]) \\\n",
        "tensor([18., 19., 20., 21.])`\n",
        "\n",
        "\n",
        "\n"
      ]
    },
    {
      "cell_type": "code",
      "metadata": {
        "id": "vETaerwaYwk7",
        "colab": {
          "base_uri": "https://localhost:8080/"
        },
        "outputId": "c36650c8-ffe1-4107-d777-c42848dbf105"
      },
      "source": [
        "t = np.arange(24)\n",
        "\n",
        "### write your code (Hint : keep printing the shape and result so that you can see!)\n",
        "t = torch.FloatTensor(t)\n",
        "\n",
        "t = t.reshape(-1, 2, 6)\n",
        "print(t.shape)\n",
        "i = torch.tensor([1])\n",
        "j = torch.tensor([1])\n",
        "k = torch.tensor([0, 1, 2, 3])\n",
        "\n",
        "print(t[i, j, k])"
      ],
      "execution_count": null,
      "outputs": [
        {
          "output_type": "stream",
          "text": [
            "torch.Size([2, 2, 6])\n",
            "tensor([18., 19., 20., 21.])\n"
          ],
          "name": "stdout"
        }
      ]
    },
    {
      "cell_type": "markdown",
      "metadata": {
        "id": "huiUbyWbW_Zu"
      },
      "source": [
        "Q2. Add 1 to tensor A (Hint: Broadcast)\\\n",
        "Input: a = np.arange(9).reshape(3, 3)\\\n",
        "Output: \\\n",
        "\n",
        "\n",
        "```\n",
        "tensor([[1, 2, 3],\n",
        "        [4, 5, 6],\n",
        "        [7, 8, 9]])\n",
        "```\n",
        "\n",
        "\n",
        "\n"
      ]
    },
    {
      "cell_type": "code",
      "metadata": {
        "id": "OJL1rurLW_Zu",
        "colab": {
          "base_uri": "https://localhost:8080/"
        },
        "outputId": "cc9dee7f-aa19-4f9b-a776-a0f5edd4e8de"
      },
      "source": [
        "a = np.arange(9).reshape(3, 3)\n",
        "\n",
        "# write your code\n",
        "t = torch.tensor(a + 1)\n",
        "print(t)"
      ],
      "execution_count": null,
      "outputs": [
        {
          "output_type": "stream",
          "text": [
            "tensor([[1, 2, 3],\n",
            "        [4, 5, 6],\n",
            "        [7, 8, 9]])\n"
          ],
          "name": "stdout"
        }
      ]
    },
    {
      "cell_type": "markdown",
      "metadata": {
        "id": "vcCKYJUSW_Zw"
      },
      "source": [
        "\n",
        "Q3. Swap rows 1 and 2 in the array 'a’ at Q2(HARD)\n",
        "\n",
        "![image.png](data:image/png;base64,iVBORw0KGgoAAAANSUhEUgAAAG8AAABKCAIAAAA6xp2yAAAD20lEQVR4Ae2b0XbjMAhE8/8/nZ5WLqWCGSEbW05Cn+iA0HDNpt6e3cezvvIIPPJaVadn0cxcgqJZNDMJZPaq3bwTzcfvlzX1m7nvA0t3eHTUxwN2ICmLfqGS6BOyCI5HrPBU24vgLbosflBWTwe6VYuJT1vMlQU0tXsdc6OSnaIpp0iwwwPqdjVNa90qyOvz+WzFwSO5ZcSVpIrm9oSEyJHgaprWa3CDZDF1YLtpRRaZfzjEDejmbryY5tQkUiyBO5KIHUR0CunSJx6soSk/ZCeMqlex4Py2zCrxTY9YXUNTnLnjSVYHulLHumYYuwddcdjKLVhMM7ga3cDdt+5grugedEX3+FC8mqa1bhVrWj4ZusBWasV2tkrwceq2JH4Nmt0ALpSuxsXkHnRF2y2iXE2zG3LfJPFTulLHGg3SdU0wXkCzAe1eX4J2W9nU/PLhgK6Y6oaabMZ4epglVkhq2PbKgkSfCbuJtmy4FFcic+9Kd3iUpuvyY8Wimfnoi2bRzCSQ2evE3Uz/jM+c+6dXusNzaabPf0bDG70hkfGIy91LQXoiJ8O7dvSEd6HEcR251LqOIzceqUdnkR7x09Us+JOu3eu4c9Z9O1yxrr77hUDLute5ou0WUa6maa1bhfg+WOwed0XigaTemaYd2wXnivZsRPkgmoga0iP4uppPoUmQkVQHa/jt+9NsP74IiKJJ4PxLRUhFav41xd+8824GMQXLMMO/zNU0u9fA2Umm6oPFwbI/Zjgqmnf6V134OTGXO/5i0y6a2iO5RQfW8FRPe1wrC3ZTX3+H+GVoDt9O1tKUnc2yceJuZll8oT5FM/NhFc2imUkgs9eJu5n+GZ85908v4pCkiI1zaZKL75Mib0gk5fpfQ3P2yUu9Dtx5rChHbKopBBlJud0W0NQWdez6Q2LwoC7TsW6L9O5XCvoIiq+maa1bBXkVPXjEllmFI3PrxYYN1tO0nrgSn9BWWqVoTmyAxqdj/cCQzkHrDhJPOJMzwcB12cThTwZ0hdsTFTd9eBfpSVLupQtoaos6dv114pF6dBbpL7ObmhEZRpe1+GCxe9wVd1z3Td86zlJcl1a0CjIQr0Qs3A6uiDogb1s9Tx/Jui6taBV0abxym039R1ek8D/O0zci68d114oVrYKujlcidm4HV0QdkLetnqePZJFLret4eNdU8TaeWk90HOl8bV23V39uypDtxcX1hEQyNjrSiPC7SFuScm9cQ9O1skokyEjKdXsuTb4UrqErRfJiT1LE4Yk0ya3vmiqamU+2aBbNTAKZvWo3i2YmgcxetZtFM5NAZq/azUyaXwA4RLv0pRloAAAAAElFTkSuQmCC)\n"
      ]
    },
    {
      "cell_type": "code",
      "metadata": {
        "id": "uidsA9FaW_Zw",
        "colab": {
          "base_uri": "https://localhost:8080/"
        },
        "outputId": "7b6276b1-41c3-4965-93a3-48ad37105879"
      },
      "source": [
        "# write your code\n",
        "t = torch.tensor(a)\n",
        "\n",
        "t[[0, 1]] = t[[1, 0]]\n",
        "print(t)"
      ],
      "execution_count": null,
      "outputs": [
        {
          "output_type": "stream",
          "text": [
            "tensor([[3, 4, 5],\n",
            "        [0, 1, 2],\n",
            "        [6, 7, 8]])\n"
          ],
          "name": "stdout"
        }
      ]
    }
  ]
}