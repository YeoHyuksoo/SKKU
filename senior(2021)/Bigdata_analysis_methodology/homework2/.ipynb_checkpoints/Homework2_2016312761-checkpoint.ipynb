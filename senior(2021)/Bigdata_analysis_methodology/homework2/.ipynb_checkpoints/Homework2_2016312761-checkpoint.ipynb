{
 "cells": [
  {
   "cell_type": "markdown",
   "metadata": {
    "nbgrader": {
     "grade": false,
     "locked": true,
     "solution": false
    }
   },
   "source": [
    "# Homework 2 (Due: 2021.04.01 11:59 PM)"
   ]
  },
  {
   "cell_type": "code",
   "execution_count": 61,
   "metadata": {},
   "outputs": [],
   "source": [
    "Name:YeoHyuksoo"
   ]
  },
  {
   "cell_type": "markdown",
   "metadata": {},
   "source": [
    "Student ID:2016312761"
   ]
  },
  {
   "cell_type": "markdown",
   "metadata": {
    "nbgrader": {
     "grade": false,
     "locked": true,
     "solution": false
    }
   },
   "source": [
    "For this homework, you are provided with an input file.\n",
    "Submit the code that you used for analysis as an ipython notebook and an exported PDF file."
   ]
  },
  {
   "cell_type": "markdown",
   "metadata": {
    "nbgrader": {
     "grade": false,
     "locked": true,
     "solution": false
    }
   },
   "source": [
    "# Q1 Analyzing the Election Data (3 x 8 = 24 pts)"
   ]
  },
  {
   "cell_type": "markdown",
   "metadata": {
    "nbgrader": {
     "grade": false,
     "locked": true,
     "solution": false
    }
   },
   "source": [
    "Run the following cell to set the filename."
   ]
  },
  {
   "cell_type": "code",
   "execution_count": 62,
   "metadata": {
    "nbgrader": {
     "grade": false,
     "locked": true,
     "solution": false
    }
   },
   "outputs": [],
   "source": [
    "filename = 'bush-gore-results-fl_demo.csv'"
   ]
  },
  {
   "cell_type": "markdown",
   "metadata": {
    "collapsed": true,
    "nbgrader": {
     "grade": false,
     "locked": true,
     "solution": false
    }
   },
   "source": [
    "(a) Determine how many counties Bush won. You can assume that each row corresponds to a unique county.\n",
    "    Demo file: 'bush-gore-results-fl_demo.csv' "
   ]
  },
  {
   "cell_type": "code",
   "execution_count": 63,
   "metadata": {
    "scrolled": true
   },
   "outputs": [
    {
     "name": "stdout",
     "output_type": "stream",
     "text": [
      "51\n"
     ]
    }
   ],
   "source": [
    "#\n",
    "# YOUR CODE HERE\n",
    "#\n",
    "filename = 'bush-gore-results-fl_demo.csv'\n",
    "f = open(filename, 'r')\n",
    "data = f.readlines()\n",
    "data = [s.strip().split(',') for s in data]\n",
    "won = 0\n",
    "data = data[1:]\n",
    "for d in data:\n",
    "    candidate = list(map(float, d[11:]))\n",
    "    if float(max(candidate)) == float(d[11]):\n",
    "        won += 1\n",
    "print(won)"
   ]
  },
  {
   "cell_type": "markdown",
   "metadata": {
    "nbgrader": {
     "grade": false,
     "locked": true,
     "solution": false
    }
   },
   "source": [
    "(b) Determine who won the largest county. The column named \"npop\" records the size of each county.\n",
    "    Demo file: 'bush-gore-results-fl_demo.csv' "
   ]
  },
  {
   "cell_type": "code",
   "execution_count": 64,
   "metadata": {},
   "outputs": [
    {
     "name": "stdout",
     "output_type": "stream",
     "text": [
      "gore\n"
     ]
    }
   ],
   "source": [
    "#\n",
    "# YOUR CODE HERE\n",
    "#\n",
    "filename = 'bush-gore-results-fl_demo.csv'\n",
    "f = open(filename, 'r')\n",
    "data = f.readlines()\n",
    "data = [s.strip().split(',') for s in data]\n",
    "header = data[0]\n",
    "data = data[1:]\n",
    "max_pop = 0\n",
    "max_i = 0\n",
    "for i in range(len(data)):\n",
    "    if float(data[i][3]) > max_pop:\n",
    "        max_pop = float(data[i][3])\n",
    "        max_i = i\n",
    "\n",
    "cand = list(map(float, data[max_i][11:]))\n",
    "\n",
    "print(header[11+cand.index(max(cand))])"
   ]
  },
  {
   "cell_type": "markdown",
   "metadata": {
    "nbgrader": {
     "grade": false,
     "locked": true,
     "solution": false
    }
   },
   "source": [
    "(c) Determine the average number of votes per county that Buchanan obtained. You can assume that each row corresponds to a unique county.\n",
    "    Demo file: 'bush-gore-results-fl_demo.csv' "
   ]
  },
  {
   "cell_type": "code",
   "execution_count": 65,
   "metadata": {},
   "outputs": [
    {
     "name": "stdout",
     "output_type": "stream",
     "text": [
      "360.67164179104475\n"
     ]
    }
   ],
   "source": [
    "#\n",
    "# YOUR CODE HERE\n",
    "#\n",
    "filename = 'bush-gore-results-fl_demo.csv'\n",
    "f = open(filename, 'r')\n",
    "data = f.readlines()\n",
    "data = [s.strip().split(',') for s in data]\n",
    "data = data[1:]\n",
    "avg_vote = 0\n",
    "for d in data:\n",
    "    avg_vote += float(d[17])\n",
    "\n",
    "print(avg_vote / len(data))"
   ]
  },
  {
   "cell_type": "markdown",
   "metadata": {
    "nbgrader": {
     "grade": false,
     "locked": true,
     "solution": false
    }
   },
   "source": [
    "(d) Determine, for the number of votes Buchanan obtained in Palm Beach, how many standard deviations it is away from Buchanan's overall mean, in absolute value. The row with coounty number 50 (\"co\"=50) records the results for Palm Beach County. (You can assumed that such a row will exist in the test case.)\n",
    "    Demo file: 'bush-gore-results-fl_demo.csv' "
   ]
  },
  {
   "cell_type": "code",
   "execution_count": 2,
   "metadata": {},
   "outputs": [
    {
     "name": "stdout",
     "output_type": "stream",
     "text": [
      "7.045796738007179\n"
     ]
    }
   ],
   "source": [
    "#\n",
    "# YOUR CODE HERE\n",
    "#\n",
    "import numpy as np\n",
    "filename = 'bush-gore-results-fl_demo.csv'\n",
    "f = open(filename, 'r')\n",
    "data = f.readlines()\n",
    "data = [s.strip().split(',') for s in data]\n",
    "data = data[1:]\n",
    "vote = 0\n",
    "buch = []\n",
    "for d in data:\n",
    "    vote += float(d[17])\n",
    "    buch.append(float(d[17]))\n",
    "\n",
    "std = np.std(buch)\n",
    "print(abs(float(data[49][17]) - (vote / len(data))) / std)"
   ]
  },
  {
   "cell_type": "markdown",
   "metadata": {},
   "source": [
    "(e) Now calculate the above statistic (same as in part f) for all the counties and report them in decreasing order.\n",
    "    Demo file: 'bush-gore-results-fl_demo.csv' \n",
    "    Example output: \n",
    "    county_50 6.993018  \n",
    "    county_52 ...\n",
    "    ...\n",
    "    ..."
   ]
  },
  {
   "cell_type": "code",
   "execution_count": 75,
   "metadata": {},
   "outputs": [
    {
     "name": "stdout",
     "output_type": "stream",
     "text": [
      "county_50 3146.3283582089553\n",
      "county_52 752.3283582089553\n",
      "county_28 586.3283582089553\n",
      "county_6 527.3283582089553\n",
      "county_15 391.32835820895525\n",
      "county_5 309.32835820895525\n",
      "county_51 309.32835820895525\n",
      "county_41 302.32835820895525\n",
      "county_43 299.32835820895525\n",
      "county_53 271.32835820895525\n",
      "county_21 251.67164179104475\n",
      "county_33 250.67164179104475\n",
      "county_16 241.32835820895525\n",
      "county_25 238.67164179104475\n",
      "county_23 237.67164179104475\n",
      "county_64 235.32835820895525\n",
      "county_62 233.67164179104475\n",
      "county_14 231.67164179104475\n",
      "county_20 231.67164179104475\n",
      "county_32 231.67164179104475\n",
      "county_39 231.67164179104475\n",
      "county_24 230.67164179104475\n",
      "county_18 227.67164179104475\n",
      "county_13 224.67164179104475\n",
      "county_63 223.67164179104475\n",
      "county_19 222.67164179104475\n",
      "county_38 221.67164179104475\n",
      "county_47 217.67164179104475\n",
      "county_65 214.67164179104475\n",
      "county_44 213.67164179104475\n",
      "county_4 195.67164179104475\n",
      "county_37 193.67164179104475\n",
      "county_22 189.67164179104475\n",
      "county_2 187.67164179104475\n",
      "county_48 185.32835820895525\n",
      "county_29 184.67164179104475\n",
      "county_17 177.67164179104475\n",
      "county_67 172.67164179104475\n",
      "county_12 171.67164179104475\n",
      "county_7 170.67164179104475\n",
      "county_45 170.67164179104475\n",
      "county_31 158.67164179104475\n",
      "county_30 155.67164179104475\n",
      "county_61 152.67164179104475\n",
      "county_42 148.67164179104475\n",
      "county_60 146.67164179104475\n",
      "county_66 140.67164179104475\n",
      "county_11 138.67164179104475\n",
      "county_59 136.67164179104475\n",
      "county_27 133.67164179104475\n",
      "county_49 115.67164179104475\n",
      "county_54 112.67164179104475\n",
      "county_8 78.67164179104475\n",
      "county_10 74.67164179104475\n",
      "county_57 66.67164179104475\n",
      "county_55 50.32835820895525\n",
      "county_35 44.32835820895525\n",
      "county_56 44.32835820895525\n",
      "county_58 31.67164179104475\n",
      "county_34 28.32835820895525\n",
      "county_36 21.32835820895525\n",
      "county_26 18.67164179104475\n",
      "county_3 12.671641791044749\n",
      "county_40 10.328358208955251\n",
      "county_9 9.328358208955251\n",
      "county_46 6.328358208955251\n",
      "county_1 2.328358208955251\n"
     ]
    }
   ],
   "source": [
    "#\n",
    "# YOUR CODE HERE\n",
    "#\n",
    "import operator\n",
    "filename = 'bush-gore-results-fl_demo.csv'\n",
    "f = open(filename, 'r')\n",
    "data = f.readlines()\n",
    "data = [s.strip().split(',') for s in data]\n",
    "data = data[1:]\n",
    "vote = 0\n",
    "for d in data:\n",
    "    vote += float(d[17])\n",
    "\n",
    "avgvote = vote / len(data)\n",
    "\n",
    "deviate = {}\n",
    "for d in data:\n",
    "    deviate[int(d[0])] = abs(float(d[17]) - avgvote)\n",
    "deviate = sorted(deviate.items(), key=operator.itemgetter(1), reverse=True)\n",
    "\n",
    "for key, value in deviate:\n",
    "    print(\"county_\"+str(key), value)"
   ]
  },
  {
   "cell_type": "markdown",
   "metadata": {
    "nbgrader": {
     "grade": false,
     "locked": true,
     "solution": false
    }
   },
   "source": [
    "(f) Assuming that the votes were distributed across the white, black, and hispanic population uniformly, determine which candidate obtained the largest number of votes for each subpopulation.\n",
    "    Demo file: 'bush-gore-results-fl_demo.csv' \n",
    "    Example output:\n",
    "    white: bush\n",
    "    black: ..\n",
    "    hispanic: .."
   ]
  },
  {
   "cell_type": "code",
   "execution_count": 68,
   "metadata": {},
   "outputs": [
    {
     "name": "stdout",
     "output_type": "stream",
     "text": [
      "white: bush\n",
      "black: gore\n",
      "hispanic: gore\n"
     ]
    }
   ],
   "source": [
    "#\n",
    "# YOUR CODE HERE\n",
    "#\n",
    "filename = 'bush-gore-results-fl_demo.csv'\n",
    "f = open(filename, 'r')\n",
    "data = f.readlines()\n",
    "data = [s.strip().split(',') for s in data]\n",
    "header = data[0]\n",
    "data = data[1:]\n",
    "white = [0 for i in range(10)]\n",
    "black = [0 for i in range(10)]\n",
    "hispanic = [0 for i in range(10)]\n",
    "for d in data:\n",
    "    for i in range(0, 10, 1):\n",
    "        white[i] += float(d[i+11]) * float(d[4]) / 100\n",
    "        black[i] += float(d[i+11]) * float(d[5]) / 100\n",
    "        hispanic[i] += float(d[i+11]) * float(d[6]) / 100\n",
    "\n",
    "print(\"white:\", header[11+white.index(max(white))])\n",
    "print(\"black:\", header[11+black.index(max(black))])\n",
    "print(\"hispanic:\", header[11+hispanic.index(max(hispanic))])"
   ]
  },
  {
   "cell_type": "markdown",
   "metadata": {
    "nbgrader": {
     "grade": false,
     "locked": true,
     "solution": false
    }
   },
   "source": [
    "(g) Calculate the correlation between the difference in votes between Bush and Gore, and the votes obtained by Nader.\n",
    "(FYI: Pearson's correlation coefficient) https://en.wikipedia.org/wiki/Pearson_correlation_coefficient\n",
    "    Demo file: 'bush-gore-results-fl_demo.csv' "
   ]
  },
  {
   "cell_type": "code",
   "execution_count": 69,
   "metadata": {
    "scrolled": false
   },
   "outputs": [
    {
     "name": "stdout",
     "output_type": "stream",
     "text": [
      "0.5443059987726585\n"
     ]
    }
   ],
   "source": [
    "#\n",
    "# YOUR CODE HERE\n",
    "#\n",
    "import pandas as pd\n",
    "filename = 'bush-gore-results-fl_demo.csv'\n",
    "f = open(filename, 'r')\n",
    "data = f.readlines()\n",
    "data = [s.strip().split(',') for s in data]\n",
    "data = data[1:]\n",
    "bush_gore = []\n",
    "nader = []\n",
    "lists = []\n",
    "for d in data:\n",
    "    bush_gore.append(abs(float(d[12])-float(d[11])))\n",
    "    nader.append(float(d[14]))\n",
    "lists.append(bush_gore)\n",
    "lists.append(nader)\n",
    "df = pd.DataFrame(lists).T\n",
    "corr = df.corr(method = 'pearson')\n",
    "print(corr[0][1])"
   ]
  },
  {
   "cell_type": "code",
   "execution_count": 73,
   "metadata": {
    "nbgrader": {
     "grade": false,
     "locked": true,
     "solution": false
    }
   },
   "outputs": [],
   "source": [
    "(h) Find the distance between the county that Bush won by the largest margin and the county that Gore won by the largest margin. (Just use basic Euclidean distance between the latitude (lat) and longitude (lon) values for the counties, no need to compute spherical distance.) (FYI: Eucliden distane is decribed in https://en.wikipedia.org/wiki/Euclidean_distance#:~:text=In%20mathematics%2C%20the%20Euclidean%20distance,metric%20as%20the%20Pythagorean%20metric.)\n",
    "    Demo file: 'bush-gore-results-fl_demo.csv' "
   ]
  },
  {
   "cell_type": "code",
   "execution_count": 74,
   "metadata": {},
   "outputs": [
    {
     "name": "stdout",
     "output_type": "stream",
     "text": [
      "4.341658669218476\n"
     ]
    }
   ],
   "source": [
    "#\n",
    "# YOUR CODE HERE\n",
    "#\n",
    "import math\n",
    "filename = 'bush-gore-results-fl_demo.csv'\n",
    "f = open(filename, 'r')\n",
    "data = f.readlines()\n",
    "data = [s.strip().split(',') for s in data]\n",
    "data = data[1:]\n",
    "bush_max = 0\n",
    "gore_max = 0\n",
    "bush_i = 0\n",
    "gore_i = 0\n",
    "for i in range(len(data)):\n",
    "    if float(data[i][11]) > float(data[i][12]):\n",
    "        if float(data[i][11]) - float(data[i][12]) > bush_max:\n",
    "            bush_max = float(data[i][11]) - float(data[i][12])\n",
    "            bush_i = i\n",
    "    elif float(data[i][11]) < float(data[i][12]):\n",
    "        if float(data[i][12]) - float(data[i][11]) > gore_max:\n",
    "            gore_max = float(data[i][12]) - float(data[i][11])\n",
    "            gore_i = i\n",
    "\n",
    "print(math.sqrt(((float(data[bush_i][1])-float(data[gore_i][1])) ** 2) + ((float(data[bush_i][2])-float(data[gore_i][2])) ** 2)))"
   ]
  },
  {
   "cell_type": "code",
   "execution_count": null,
   "metadata": {},
   "outputs": [],
   "source": []
  }
 ],
 "metadata": {
  "kernelspec": {
   "display_name": "Python 3",
   "language": "python",
   "name": "python3"
  },
  "language_info": {
   "codemirror_mode": {
    "name": "ipython",
    "version": 3
   },
   "file_extension": ".py",
   "mimetype": "text/x-python",
   "name": "python",
   "nbconvert_exporter": "python",
   "pygments_lexer": "ipython3",
   "version": "3.7.6"
  }
 },
 "nbformat": 4,
 "nbformat_minor": 2
}
